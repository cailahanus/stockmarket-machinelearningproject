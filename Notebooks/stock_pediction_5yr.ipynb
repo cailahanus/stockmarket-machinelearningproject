{
 "cells": [
  {
   "cell_type": "code",
   "execution_count": null,
   "metadata": {},
   "outputs": [],
   "source": [
    "# Import the dependencies\n",
    "\n",
    "import os\n",
    "import numpy as np\n",
    "import pandas as pd\n",
    "from pathlib import Path\n",
    "from sklearn.preprocessing import StandardScaler\n",
    "from sklearn.model_selection import train_test_split\n",
    "from sklearn.metrics import mean_squared_error\n",
    "from sklearn.linear_model import LinearRegression\n",
    "import tensorflow as tf\n",
    "from tensorflow.keras.models import Sequential\n",
    "from tensorflow.keras.layers import Dense\n",
    "import matplotlib.pyplot as plt\n"
   ]
  },
  {
   "cell_type": "code",
   "execution_count": null,
   "metadata": {},
   "outputs": [],
   "source": [
    "# Define directory containing the csv files\n",
    "dir_path = Path(\"../Resources\")\n",
    "\n",
    "# create an empty list to hold the dataframes \n",
    "dfs = []\n",
    "\n",
    "# loop through each file in the directory\n",
    "for file in os.listdir(dir_path):\n",
    "    # check if the file is a csv file\n",
    "    if file.endswith(\".csv\"):\n",
    "        # extract the ticker symbol from the file name (assuming the file name is the ticker symbol)\n",
    "        ticker = file.replace(\".csv\", \"\")\n",
    "        # Read the file into a DataFrame\n",
    "        stocks_df = pd.read_csv(dir_path / file)\n",
    "        # Add a column to the DataFrame to store the ticker symbol\n",
    "        stocks_df[\"Ticker\"] = ticker\n",
    "        # add the dataframe to the list\n",
    "        dfs.append(stocks_df)\n",
    "        \n",
    "# concatenate the dataframes in the list\n",
    "combined_stocks_df = pd.concat(dfs, ignore_index=True)\n",
    "\n",
    "# Display the combined DataFrame to verify\n",
    "print(combined_stocks_df.head())"
   ]
  }
 ],
 "metadata": {
  "kernelspec": {
   "display_name": "Python 3",
   "language": "python",
   "name": "python3"
  },
  "language_info": {
   "codemirror_mode": {
    "name": "ipython",
    "version": 3
   },
   "file_extension": ".py",
   "mimetype": "text/x-python",
   "name": "python",
   "nbconvert_exporter": "python",
   "pygments_lexer": "ipython3",
   "version": "3.10.13"
  }
 },
 "nbformat": 4,
 "nbformat_minor": 2
}
