{
 "cells": [
  {
   "cell_type": "code",
   "execution_count": 36,
   "metadata": {},
   "outputs": [],
   "source": [
    "#Import dependencies\n",
    "import os\n",
    "import pandas as pd\n",
    "import numpy as np\n",
    "from datetime import datetime\n",
    "from sklearn.model_selection import train_test_split\n",
    "from sklearn.ensemble import RandomForestRegressor\n",
    "from sklearn.metrics import mean_squared_error"
   ]
  },
  {
   "cell_type": "code",
   "execution_count": 37,
   "metadata": {},
   "outputs": [
    {
     "name": "stderr",
     "output_type": "stream",
     "text": [
      "C:\\Users\\danba\\AppData\\Local\\Temp\\ipykernel_25784\\2401492650.py:9: FutureWarning: The behavior of DataFrame concatenation with empty or all-NA entries is deprecated. In a future version, this will no longer exclude empty or all-NA columns when determining the result dtypes. To retain the old behavior, exclude the relevant entries before the concat operation.\n",
      "  return pd.concat(data_list, ignore_index=True)\n"
     ]
    }
   ],
   "source": [
    "# Define the data_load function to read and process the data\n",
    "def data_load(data_path):\n",
    "    data_list = []\n",
    "    for file in os.listdir(data_path):\n",
    "        if file.endswith('.csv'):\n",
    "            file_path = os.path.join(data_path, file)\n",
    "            data = pd.read_csv(file_path, parse_dates=['Date'])\n",
    "            data_list.append(data)\n",
    "    return pd.concat(data_list, ignore_index=True)\n",
    "\n",
    "# Set path to Data and define a data variable\n",
    "data_path = os.path.join(os.getcwd(), 'Data')\n",
    "data = data_load(data_path)"
   ]
  },
  {
   "cell_type": "code",
   "execution_count": 38,
   "metadata": {},
   "outputs": [],
   "source": [
    "# Filter our new data to only use entries from January 1st, 2020 onward\n",
    "\n",
    "start_date = datetime(2020, 1, 1)\n",
    "data_filtered_2020s = data[data['Date'] >= start_date]"
   ]
  },
  {
   "cell_type": "code",
   "execution_count": 39,
   "metadata": {},
   "outputs": [
    {
     "name": "stderr",
     "output_type": "stream",
     "text": [
      "C:\\Users\\danba\\AppData\\Local\\Temp\\ipykernel_25784\\1815585834.py:3: SettingWithCopyWarning: \n",
      "A value is trying to be set on a copy of a slice from a DataFrame.\n",
      "Try using .loc[row_indexer,col_indexer] = value instead\n",
      "\n",
      "See the caveats in the documentation: https://pandas.pydata.org/pandas-docs/stable/user_guide/indexing.html#returning-a-view-versus-a-copy\n",
      "  data_filtered_2020s['Prev_Day_Close'] = data_filtered_2020s['Close'].shift(1)\n",
      "C:\\Users\\danba\\AppData\\Local\\Temp\\ipykernel_25784\\1815585834.py:4: SettingWithCopyWarning: \n",
      "A value is trying to be set on a copy of a slice from a DataFrame.\n",
      "Try using .loc[row_indexer,col_indexer] = value instead\n",
      "\n",
      "See the caveats in the documentation: https://pandas.pydata.org/pandas-docs/stable/user_guide/indexing.html#returning-a-view-versus-a-copy\n",
      "  data_filtered_2020s['Prev_Day_Vol'] = data_filtered_2020s['Volume'].shift(1)\n"
     ]
    }
   ],
   "source": [
    "# Define new features in the data for the previous day's close and previous day's volume. Then use 'dropna()' to drop non-values.\n",
    "\n",
    "data_filtered_2020s['Prev_Day_Close'] = data_filtered_2020s['Close'].shift(1)\n",
    "data_filtered_2020s['Prev_Day_Vol'] = data_filtered_2020s['Volume'].shift(1)\n",
    "data_filtered_2020s = data_filtered_2020s.dropna()\n",
    "\n",
    "# Make sure data is sorted by Date\n",
    "data_filtered_2020s = data_filtered_2020s.sort_values(by='Date')\n",
    "\n",
    "# Define features (X) and target (y) for training purposes\n",
    "X = data_filtered_2020s[['Prev_Day_Close', 'Prev_Day_Vol']]\n",
    "y = data_filtered_2020s['Close']\n",
    "\n",
    "# Split data into test and training sets chronologically\n",
    "cutoff_date = datetime(2023, 12, 31)\n",
    "X_train = X[data_filtered_2020s['Date'] <= cutoff_date]\n",
    "y_train = y[data_filtered_2020s['Date'] <= cutoff_date]\n",
    "X_test = X[data_filtered_2020s['Date'] > cutoff_date]\n",
    "y_test = y[data_filtered_2020s['Date'] > cutoff_date]"
   ]
  },
  {
   "cell_type": "code",
   "execution_count": 40,
   "metadata": {},
   "outputs": [
    {
     "data": {
      "text/html": [
       "<style>#sk-container-id-5 {color: black;background-color: white;}#sk-container-id-5 pre{padding: 0;}#sk-container-id-5 div.sk-toggleable {background-color: white;}#sk-container-id-5 label.sk-toggleable__label {cursor: pointer;display: block;width: 100%;margin-bottom: 0;padding: 0.3em;box-sizing: border-box;text-align: center;}#sk-container-id-5 label.sk-toggleable__label-arrow:before {content: \"▸\";float: left;margin-right: 0.25em;color: #696969;}#sk-container-id-5 label.sk-toggleable__label-arrow:hover:before {color: black;}#sk-container-id-5 div.sk-estimator:hover label.sk-toggleable__label-arrow:before {color: black;}#sk-container-id-5 div.sk-toggleable__content {max-height: 0;max-width: 0;overflow: hidden;text-align: left;background-color: #f0f8ff;}#sk-container-id-5 div.sk-toggleable__content pre {margin: 0.2em;color: black;border-radius: 0.25em;background-color: #f0f8ff;}#sk-container-id-5 input.sk-toggleable__control:checked~div.sk-toggleable__content {max-height: 200px;max-width: 100%;overflow: auto;}#sk-container-id-5 input.sk-toggleable__control:checked~label.sk-toggleable__label-arrow:before {content: \"▾\";}#sk-container-id-5 div.sk-estimator input.sk-toggleable__control:checked~label.sk-toggleable__label {background-color: #d4ebff;}#sk-container-id-5 div.sk-label input.sk-toggleable__control:checked~label.sk-toggleable__label {background-color: #d4ebff;}#sk-container-id-5 input.sk-hidden--visually {border: 0;clip: rect(1px 1px 1px 1px);clip: rect(1px, 1px, 1px, 1px);height: 1px;margin: -1px;overflow: hidden;padding: 0;position: absolute;width: 1px;}#sk-container-id-5 div.sk-estimator {font-family: monospace;background-color: #f0f8ff;border: 1px dotted black;border-radius: 0.25em;box-sizing: border-box;margin-bottom: 0.5em;}#sk-container-id-5 div.sk-estimator:hover {background-color: #d4ebff;}#sk-container-id-5 div.sk-parallel-item::after {content: \"\";width: 100%;border-bottom: 1px solid gray;flex-grow: 1;}#sk-container-id-5 div.sk-label:hover label.sk-toggleable__label {background-color: #d4ebff;}#sk-container-id-5 div.sk-serial::before {content: \"\";position: absolute;border-left: 1px solid gray;box-sizing: border-box;top: 0;bottom: 0;left: 50%;z-index: 0;}#sk-container-id-5 div.sk-serial {display: flex;flex-direction: column;align-items: center;background-color: white;padding-right: 0.2em;padding-left: 0.2em;position: relative;}#sk-container-id-5 div.sk-item {position: relative;z-index: 1;}#sk-container-id-5 div.sk-parallel {display: flex;align-items: stretch;justify-content: center;background-color: white;position: relative;}#sk-container-id-5 div.sk-item::before, #sk-container-id-5 div.sk-parallel-item::before {content: \"\";position: absolute;border-left: 1px solid gray;box-sizing: border-box;top: 0;bottom: 0;left: 50%;z-index: -1;}#sk-container-id-5 div.sk-parallel-item {display: flex;flex-direction: column;z-index: 1;position: relative;background-color: white;}#sk-container-id-5 div.sk-parallel-item:first-child::after {align-self: flex-end;width: 50%;}#sk-container-id-5 div.sk-parallel-item:last-child::after {align-self: flex-start;width: 50%;}#sk-container-id-5 div.sk-parallel-item:only-child::after {width: 0;}#sk-container-id-5 div.sk-dashed-wrapped {border: 1px dashed gray;margin: 0 0.4em 0.5em 0.4em;box-sizing: border-box;padding-bottom: 0.4em;background-color: white;}#sk-container-id-5 div.sk-label label {font-family: monospace;font-weight: bold;display: inline-block;line-height: 1.2em;}#sk-container-id-5 div.sk-label-container {text-align: center;}#sk-container-id-5 div.sk-container {/* jupyter's `normalize.less` sets `[hidden] { display: none; }` but bootstrap.min.css set `[hidden] { display: none !important; }` so we also need the `!important` here to be able to override the default hidden behavior on the sphinx rendered scikit-learn.org. See: https://github.com/scikit-learn/scikit-learn/issues/21755 */display: inline-block !important;position: relative;}#sk-container-id-5 div.sk-text-repr-fallback {display: none;}</style><div id=\"sk-container-id-5\" class=\"sk-top-container\"><div class=\"sk-text-repr-fallback\"><pre>RandomForestRegressor(random_state=42)</pre><b>In a Jupyter environment, please rerun this cell to show the HTML representation or trust the notebook. <br />On GitHub, the HTML representation is unable to render, please try loading this page with nbviewer.org.</b></div><div class=\"sk-container\" hidden><div class=\"sk-item\"><div class=\"sk-estimator sk-toggleable\"><input class=\"sk-toggleable__control sk-hidden--visually\" id=\"sk-estimator-id-5\" type=\"checkbox\" checked><label for=\"sk-estimator-id-5\" class=\"sk-toggleable__label sk-toggleable__label-arrow\">RandomForestRegressor</label><div class=\"sk-toggleable__content\"><pre>RandomForestRegressor(random_state=42)</pre></div></div></div></div></div>"
      ],
      "text/plain": [
       "RandomForestRegressor(random_state=42)"
      ]
     },
     "execution_count": 40,
     "metadata": {},
     "output_type": "execute_result"
    }
   ],
   "source": [
    "# Train the stock_model\n",
    "stock_model = RandomForestRegressor(n_estimators=100, random_state=42)\n",
    "stock_model.fit(X_train, y_train)"
   ]
  },
  {
   "cell_type": "code",
   "execution_count": 41,
   "metadata": {},
   "outputs": [
    {
     "name": "stdout",
     "output_type": "stream",
     "text": [
      "Mean Squared Error: 1692.47385425496\n"
     ]
    }
   ],
   "source": [
    "# Evaluate stock_model using mse (mean squared error)\n",
    "y_pred = stock_model.predict(X_test)\n",
    "mse = mean_squared_error(y_test, y_pred)\n",
    "print(f'Mean Squared Error: {mse}')"
   ]
  },
  {
   "cell_type": "code",
   "execution_count": 42,
   "metadata": {},
   "outputs": [
    {
     "name": "stdout",
     "output_type": "stream",
     "text": [
      "          Date  Prev_Day_Close  Prev_Day_Vol  Predicted_Close\n",
      "0   2024-07-01     2054.426798  6.678763e+08      2066.759948\n",
      "1   2024-07-02      544.307303  1.546090e+08       536.391608\n",
      "2   2024-07-03      147.454241  4.253801e+08       155.818170\n",
      "3   2024-07-04     2306.909771  5.037887e+08      2284.892109\n",
      "4   2024-07-05     3458.272334  4.545665e+08      3498.300154\n",
      "..         ...             ...           ...              ...\n",
      "127 2024-12-25     2974.216398  3.395765e+08      2960.774961\n",
      "128 2024-12-26      683.685167  6.817872e+08       672.819907\n",
      "129 2024-12-27     2207.334955  3.306476e+08      2209.594961\n",
      "130 2024-12-30     3759.727478  8.222475e+08      3505.165137\n",
      "131 2024-12-31     2351.022471  5.402364e+08      2357.292424\n",
      "\n",
      "[132 rows x 4 columns]\n"
     ]
    }
   ],
   "source": [
    "#Predict future stock prices for the remainder of 2024 (Q3 to Q4)\n",
    "\n",
    "future_dates = pd.date_range(start='2024-07-01', end='2024-12-31', freq='B') # freq = B restricts to Business Days\n",
    "q3q4_data = pd.DataFrame({\n",
    "    'Date': future_dates,\n",
    "    'Prev_Day_Close': np.random.uniform(low=min(data_filtered_2020s['Close']), high=max(data_filtered_2020s['Close']), size=len(future_dates)),\n",
    "    'Prev_Day_Vol': np.random.uniform(low=min(data_filtered_2020s['Volume']), high=max(data_filtered_2020s['Volume']), size=len(future_dates))\n",
    "})\n",
    "\n",
    "q3q4_X = q3q4_data[['Prev_Day_Close', 'Prev_Day_Vol']]\n",
    "q3q4_predictions = stock_model.predict(q3q4_X)\n",
    "\n",
    "# Add predictions to the q3q4_data DF\n",
    "q3q4_data['Predicted_Close'] = q3q4_predictions\n",
    "print(q3q4_data)"
   ]
  }
 ],
 "metadata": {
  "kernelspec": {
   "display_name": "base",
   "language": "python",
   "name": "python3"
  },
  "language_info": {
   "codemirror_mode": {
    "name": "ipython",
    "version": 3
   },
   "file_extension": ".py",
   "mimetype": "text/x-python",
   "name": "python",
   "nbconvert_exporter": "python",
   "pygments_lexer": "ipython3",
   "version": "3.11.7"
  }
 },
 "nbformat": 4,
 "nbformat_minor": 2
}
