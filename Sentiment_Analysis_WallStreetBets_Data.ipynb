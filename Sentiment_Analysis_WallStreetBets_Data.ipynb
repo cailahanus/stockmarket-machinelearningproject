{
 "cells": [
  {
   "cell_type": "code",
   "execution_count": 41,
   "metadata": {},
   "outputs": [
    {
     "name": "stdout",
     "output_type": "stream",
     "text": [
      "Requirement already satisfied: praw in c:\\users\\ayeni\\anaconda3\\envs\\dev\\lib\\site-packages (7.7.1)\n",
      "Requirement already satisfied: prawcore<3,>=2.1 in c:\\users\\ayeni\\anaconda3\\envs\\dev\\lib\\site-packages (from praw) (2.4.0)\n",
      "Requirement already satisfied: update-checker>=0.18 in c:\\users\\ayeni\\anaconda3\\envs\\dev\\lib\\site-packages (from praw) (0.18.0)\n",
      "Requirement already satisfied: websocket-client>=0.54.0 in c:\\users\\ayeni\\anaconda3\\envs\\dev\\lib\\site-packages (from praw) (1.8.0)\n",
      "Requirement already satisfied: requests<3.0,>=2.6.0 in c:\\users\\ayeni\\anaconda3\\envs\\dev\\lib\\site-packages (from prawcore<3,>=2.1->praw) (2.31.0)\n",
      "Requirement already satisfied: charset-normalizer<4,>=2 in c:\\users\\ayeni\\anaconda3\\envs\\dev\\lib\\site-packages (from requests<3.0,>=2.6.0->prawcore<3,>=2.1->praw) (3.3.2)\n",
      "Requirement already satisfied: idna<4,>=2.5 in c:\\users\\ayeni\\anaconda3\\envs\\dev\\lib\\site-packages (from requests<3.0,>=2.6.0->prawcore<3,>=2.1->praw) (3.6)\n",
      "Requirement already satisfied: urllib3<3,>=1.21.1 in c:\\users\\ayeni\\anaconda3\\envs\\dev\\lib\\site-packages (from requests<3.0,>=2.6.0->prawcore<3,>=2.1->praw) (2.2.0)\n",
      "Requirement already satisfied: certifi>=2017.4.17 in c:\\users\\ayeni\\anaconda3\\envs\\dev\\lib\\site-packages (from requests<3.0,>=2.6.0->prawcore<3,>=2.1->praw) (2024.2.2)\n",
      "Requirement already satisfied: yfinance in c:\\users\\ayeni\\anaconda3\\envs\\dev\\lib\\site-packages (0.2.40)\n",
      "Requirement already satisfied: pandas>=1.3.0 in c:\\users\\ayeni\\anaconda3\\envs\\dev\\lib\\site-packages (from yfinance) (2.1.4)\n",
      "Requirement already satisfied: numpy>=1.16.5 in c:\\users\\ayeni\\anaconda3\\envs\\dev\\lib\\site-packages (from yfinance) (1.26.3)\n",
      "Requirement already satisfied: requests>=2.31 in c:\\users\\ayeni\\anaconda3\\envs\\dev\\lib\\site-packages (from yfinance) (2.31.0)\n",
      "Requirement already satisfied: multitasking>=0.0.7 in c:\\users\\ayeni\\anaconda3\\envs\\dev\\lib\\site-packages (from yfinance) (0.0.11)\n",
      "Requirement already satisfied: lxml>=4.9.1 in c:\\users\\ayeni\\anaconda3\\envs\\dev\\lib\\site-packages (from yfinance) (5.1.0)\n",
      "Requirement already satisfied: platformdirs>=2.0.0 in c:\\users\\ayeni\\anaconda3\\envs\\dev\\lib\\site-packages (from yfinance) (4.1.0)\n",
      "Requirement already satisfied: pytz>=2022.5 in c:\\users\\ayeni\\anaconda3\\envs\\dev\\lib\\site-packages (from yfinance) (2023.3.post1)\n",
      "Requirement already satisfied: frozendict>=2.3.4 in c:\\users\\ayeni\\anaconda3\\envs\\dev\\lib\\site-packages (from yfinance) (2.4.4)\n",
      "Requirement already satisfied: peewee>=3.16.2 in c:\\users\\ayeni\\anaconda3\\envs\\dev\\lib\\site-packages (from yfinance) (3.17.5)\n",
      "Requirement already satisfied: beautifulsoup4>=4.11.1 in c:\\users\\ayeni\\anaconda3\\envs\\dev\\lib\\site-packages (from yfinance) (4.12.3)\n",
      "Requirement already satisfied: html5lib>=1.1 in c:\\users\\ayeni\\anaconda3\\envs\\dev\\lib\\site-packages (from yfinance) (1.1)\n",
      "Requirement already satisfied: soupsieve>1.2 in c:\\users\\ayeni\\anaconda3\\envs\\dev\\lib\\site-packages (from beautifulsoup4>=4.11.1->yfinance) (2.5)\n",
      "Requirement already satisfied: six>=1.9 in c:\\users\\ayeni\\anaconda3\\envs\\dev\\lib\\site-packages (from html5lib>=1.1->yfinance) (1.16.0)\n",
      "Requirement already satisfied: webencodings in c:\\users\\ayeni\\anaconda3\\envs\\dev\\lib\\site-packages (from html5lib>=1.1->yfinance) (0.5.1)\n",
      "Requirement already satisfied: python-dateutil>=2.8.2 in c:\\users\\ayeni\\anaconda3\\envs\\dev\\lib\\site-packages (from pandas>=1.3.0->yfinance) (2.8.2)\n",
      "Requirement already satisfied: tzdata>=2022.1 in c:\\users\\ayeni\\anaconda3\\envs\\dev\\lib\\site-packages (from pandas>=1.3.0->yfinance) (2023.3)\n",
      "Requirement already satisfied: charset-normalizer<4,>=2 in c:\\users\\ayeni\\anaconda3\\envs\\dev\\lib\\site-packages (from requests>=2.31->yfinance) (3.3.2)\n",
      "Requirement already satisfied: idna<4,>=2.5 in c:\\users\\ayeni\\anaconda3\\envs\\dev\\lib\\site-packages (from requests>=2.31->yfinance) (3.6)\n",
      "Requirement already satisfied: urllib3<3,>=1.21.1 in c:\\users\\ayeni\\anaconda3\\envs\\dev\\lib\\site-packages (from requests>=2.31->yfinance) (2.2.0)\n",
      "Requirement already satisfied: certifi>=2017.4.17 in c:\\users\\ayeni\\anaconda3\\envs\\dev\\lib\\site-packages (from requests>=2.31->yfinance) (2024.2.2)\n",
      "Requirement already satisfied: vaderSentiment in c:\\users\\ayeni\\anaconda3\\envs\\dev\\lib\\site-packages (3.3.2)\n",
      "Requirement already satisfied: requests in c:\\users\\ayeni\\anaconda3\\envs\\dev\\lib\\site-packages (from vaderSentiment) (2.31.0)\n",
      "Requirement already satisfied: charset-normalizer<4,>=2 in c:\\users\\ayeni\\anaconda3\\envs\\dev\\lib\\site-packages (from requests->vaderSentiment) (3.3.2)\n",
      "Requirement already satisfied: idna<4,>=2.5 in c:\\users\\ayeni\\anaconda3\\envs\\dev\\lib\\site-packages (from requests->vaderSentiment) (3.6)\n",
      "Requirement already satisfied: urllib3<3,>=1.21.1 in c:\\users\\ayeni\\anaconda3\\envs\\dev\\lib\\site-packages (from requests->vaderSentiment) (2.2.0)\n",
      "Requirement already satisfied: certifi>=2017.4.17 in c:\\users\\ayeni\\anaconda3\\envs\\dev\\lib\\site-packages (from requests->vaderSentiment) (2024.2.2)\n",
      "Requirement already satisfied: matplotlib in c:\\users\\ayeni\\anaconda3\\envs\\dev\\lib\\site-packages (3.8.2)\n",
      "Requirement already satisfied: contourpy>=1.0.1 in c:\\users\\ayeni\\anaconda3\\envs\\dev\\lib\\site-packages (from matplotlib) (1.2.0)\n",
      "Requirement already satisfied: cycler>=0.10 in c:\\users\\ayeni\\anaconda3\\envs\\dev\\lib\\site-packages (from matplotlib) (0.12.1)\n",
      "Requirement already satisfied: fonttools>=4.22.0 in c:\\users\\ayeni\\anaconda3\\envs\\dev\\lib\\site-packages (from matplotlib) (4.48.1)\n",
      "Requirement already satisfied: kiwisolver>=1.3.1 in c:\\users\\ayeni\\anaconda3\\envs\\dev\\lib\\site-packages (from matplotlib) (1.4.5)\n",
      "Requirement already satisfied: numpy<2,>=1.21 in c:\\users\\ayeni\\anaconda3\\envs\\dev\\lib\\site-packages (from matplotlib) (1.26.3)\n",
      "Requirement already satisfied: packaging>=20.0 in c:\\users\\ayeni\\anaconda3\\envs\\dev\\lib\\site-packages (from matplotlib) (23.2)\n",
      "Requirement already satisfied: pillow>=8 in c:\\users\\ayeni\\anaconda3\\envs\\dev\\lib\\site-packages (from matplotlib) (10.2.0)\n",
      "Requirement already satisfied: pyparsing>=2.3.1 in c:\\users\\ayeni\\anaconda3\\envs\\dev\\lib\\site-packages (from matplotlib) (3.1.1)\n",
      "Requirement already satisfied: python-dateutil>=2.7 in c:\\users\\ayeni\\anaconda3\\envs\\dev\\lib\\site-packages (from matplotlib) (2.8.2)\n",
      "Requirement already satisfied: six>=1.5 in c:\\users\\ayeni\\anaconda3\\envs\\dev\\lib\\site-packages (from python-dateutil>=2.7->matplotlib) (1.16.0)\n",
      "Requirement already satisfied: pandas in c:\\users\\ayeni\\anaconda3\\envs\\dev\\lib\\site-packages (2.1.4)\n",
      "Requirement already satisfied: numpy<2,>=1.22.4 in c:\\users\\ayeni\\anaconda3\\envs\\dev\\lib\\site-packages (from pandas) (1.26.3)\n",
      "Requirement already satisfied: python-dateutil>=2.8.2 in c:\\users\\ayeni\\anaconda3\\envs\\dev\\lib\\site-packages (from pandas) (2.8.2)\n",
      "Requirement already satisfied: pytz>=2020.1 in c:\\users\\ayeni\\anaconda3\\envs\\dev\\lib\\site-packages (from pandas) (2023.3.post1)\n",
      "Requirement already satisfied: tzdata>=2022.1 in c:\\users\\ayeni\\anaconda3\\envs\\dev\\lib\\site-packages (from pandas) (2023.3)\n",
      "Requirement already satisfied: six>=1.5 in c:\\users\\ayeni\\anaconda3\\envs\\dev\\lib\\site-packages (from python-dateutil>=2.8.2->pandas) (1.16.0)\n",
      "Requirement already satisfied: scikit-learn in c:\\users\\ayeni\\anaconda3\\envs\\dev\\lib\\site-packages (1.4.1.post1)\n",
      "Requirement already satisfied: numpy<2.0,>=1.19.5 in c:\\users\\ayeni\\anaconda3\\envs\\dev\\lib\\site-packages (from scikit-learn) (1.26.3)\n",
      "Requirement already satisfied: scipy>=1.6.0 in c:\\users\\ayeni\\anaconda3\\envs\\dev\\lib\\site-packages (from scikit-learn) (1.12.0)\n",
      "Requirement already satisfied: joblib>=1.2.0 in c:\\users\\ayeni\\anaconda3\\envs\\dev\\lib\\site-packages (from scikit-learn) (1.3.2)\n",
      "Requirement already satisfied: threadpoolctl>=2.0.0 in c:\\users\\ayeni\\anaconda3\\envs\\dev\\lib\\site-packages (from scikit-learn) (3.3.0)\n"
     ]
    }
   ],
   "source": [
    "!pip install praw\n",
    "!pip install yfinance\n",
    "!pip install vaderSentiment\n",
    "!pip install matplotlib\n",
    "!pip install pandas\n",
    "!pip install scikit-learn\n",
    "\n"
   ]
  },
  {
   "cell_type": "code",
   "execution_count": 58,
   "metadata": {},
   "outputs": [],
   "source": [
    "import praw\n",
    "import yfinance as yf\n",
    "import pandas as pd\n",
    "import matplotlib.pyplot as plt\n",
    "from vaderSentiment.vaderSentiment import SentimentIntensityAnalyzer\n",
    "from sklearn.model_selection import train_test_split\n",
    "from sklearn.ensemble import RandomForestRegressor\n",
    "import numpy as np\n",
    "\n",
    "client_id = 'v7C0oPpsPjVKOsptqEkaAA'\n",
    "client_secret = 'fBY3xKcWRZlAH3sBYR0oVcbgg0e9aQ'\n",
    "user_agent = 'my_reddit_app/0.1 by Weary_Ad_1647'\n",
    "\n",
    "# Authenticate with the Reddit API\n",
    "reddit = praw.Reddit(client_id=client_id,\n",
    "                     client_secret=client_secret,\n",
    "                     user_agent=user_agent)\n"
   ]
  },
  {
   "cell_type": "code",
   "execution_count": 68,
   "metadata": {},
   "outputs": [],
   "source": [
    "# Access the WallStreetBets subreddit\n",
    "subreddit = reddit.subreddit('wallstreetbets')\n",
    "\n",
    "# Define the number of posts to retrieve\n",
    "num_posts = 100\n",
    "\n",
    "# Fetch the top posts\n",
    "top_posts = subreddit.top(limit=num_posts)\n",
    "\n",
    "# Initialize VADER sentiment analyzer\n",
    "analyzer = SentimentIntensityAnalyzer()\n",
    "\n",
    "# Create a list to hold the post data\n",
    "posts_data = []\n",
    "\n",
    "# Process the posts\n",
    "for post in top_posts:\n",
    "    posts_data.append({\n",
    "        'title': post.title,\n",
    "        'score': post.score,\n",
    "        'created_utc': post.created_utc,\n",
    "        'sentiment': analyzer.polarity_scores(post.title)['compound']\n",
    "    })\n",
    "\n",
    "\n"
   ]
  },
  {
   "cell_type": "code",
   "execution_count": 80,
   "metadata": {},
   "outputs": [],
   "source": [
    "# Convert the list to a pandas DataFrame\n",
    "df_sentiment = pd.DataFrame(posts_data)"
   ]
  },
  {
   "cell_type": "code",
   "execution_count": 81,
   "metadata": {},
   "outputs": [
    {
     "name": "stdout",
     "output_type": "stream",
     "text": [
      "Index(['title', 'score', 'created_utc', 'sentiment'], dtype='object')\n"
     ]
    }
   ],
   "source": [
    "# Display the DataFrame columns to ensure 'created_utc' is included\n",
    "print(df_sentiment.columns)"
   ]
  },
  {
   "cell_type": "code",
   "execution_count": 82,
   "metadata": {},
   "outputs": [],
   "source": [
    "# Convert created_utc to datetime\n",
    "df_sentiment['created_utc'] = pd.to_datetime(df_sentiment['created_utc'], unit='s')"
   ]
  },
  {
   "cell_type": "code",
   "execution_count": 83,
   "metadata": {},
   "outputs": [],
   "source": [
    "# Set created_utc as index\n",
    "df_sentiment.set_index('created_utc', inplace=True)"
   ]
  },
  {
   "cell_type": "code",
   "execution_count": 84,
   "metadata": {},
   "outputs": [],
   "source": [
    "# Resample sentiment data to daily sentiment\n",
    "daily_sentiment = df_sentiment['sentiment'].resample('D').mean()"
   ]
  },
  {
   "cell_type": "code",
   "execution_count": 85,
   "metadata": {},
   "outputs": [
    {
     "name": "stdout",
     "output_type": "stream",
     "text": [
      "created_utc\n",
      "2021-01-26    0.427800\n",
      "2021-01-27    0.213900\n",
      "2021-01-28   -0.009871\n",
      "2021-01-29    0.271583\n",
      "2021-01-30    0.274982\n",
      "Freq: D, Name: sentiment, dtype: float64\n"
     ]
    }
   ],
   "source": [
    "# Display the sentiment data\n",
    "print(daily_sentiment.head())"
   ]
  },
  {
   "cell_type": "code",
   "execution_count": null,
   "metadata": {},
   "outputs": [
    {
     "name": "stdout",
     "output_type": "stream",
     "text": [
      "url: https://www.insider.com/wallstreetbets-reddit-bans-moderators-gamestop-started-movie-deal-coup-2021-2\n"
     ]
    }
   ],
   "source": [
    "print(f'url: {post.url}')"
   ]
  },
  {
   "cell_type": "code",
   "execution_count": 75,
   "metadata": {},
   "outputs": [],
   "source": [
    "# Fetch historical stock prices for a specific stock (e.g., GME)\n",
    "ticker = 'GME'\n",
    "stock = yf.Ticker(ticker)\n",
    "stock_data = stock.history(period='5y')  # Fetch 5 years of data"
   ]
  },
  {
   "cell_type": "code",
   "execution_count": 76,
   "metadata": {},
   "outputs": [],
   "source": [
    "# Calculate moving averages\n",
    "stock_data['MA20'] = stock_data['Close'].rolling(window=20).mean()\n",
    "stock_data['MA50'] = stock_data['Close'].rolling(window=50).mean()"
   ]
  },
  {
   "cell_type": "code",
   "execution_count": 77,
   "metadata": {},
   "outputs": [],
   "source": [
    "# Calculate trading volume changes\n",
    "stock_data['Volume_Change'] = stock_data['Volume'].pct_change()"
   ]
  },
  {
   "cell_type": "code",
   "execution_count": 78,
   "metadata": {},
   "outputs": [],
   "source": [
    "# Calculate daily returns\n",
    "stock_data['Daily_Return'] = stock_data['Close'].pct_change()"
   ]
  },
  {
   "cell_type": "code",
   "execution_count": 79,
   "metadata": {},
   "outputs": [],
   "source": [
    "# Drop NaN values\n",
    "stock_data.dropna(inplace=True)"
   ]
  },
  {
   "cell_type": "code",
   "execution_count": 88,
   "metadata": {},
   "outputs": [
    {
     "name": "stdout",
     "output_type": "stream",
     "text": [
      "DatetimeIndex(['2019-08-19 00:00:00-04:00', '2019-08-20 00:00:00-04:00',\n",
      "               '2019-08-21 00:00:00-04:00', '2019-08-22 00:00:00-04:00',\n",
      "               '2019-08-23 00:00:00-04:00', '2019-08-26 00:00:00-04:00',\n",
      "               '2019-08-27 00:00:00-04:00', '2019-08-28 00:00:00-04:00',\n",
      "               '2019-08-29 00:00:00-04:00', '2019-08-30 00:00:00-04:00',\n",
      "               ...\n",
      "               '2024-05-24 00:00:00-04:00', '2024-05-28 00:00:00-04:00',\n",
      "               '2024-05-29 00:00:00-04:00', '2024-05-30 00:00:00-04:00',\n",
      "               '2024-05-31 00:00:00-04:00', '2024-06-03 00:00:00-04:00',\n",
      "               '2024-06-04 00:00:00-04:00', '2024-06-05 00:00:00-04:00',\n",
      "               '2024-06-06 00:00:00-04:00', '2024-06-07 00:00:00-04:00'],\n",
      "              dtype='datetime64[ns, America/New_York]', name='Date', length=1210, freq=None)\n",
      "DatetimeIndex(['2021-01-26', '2021-01-27', '2021-01-28', '2021-01-29',\n",
      "               '2021-01-30', '2021-01-31', '2021-02-01', '2021-02-02',\n",
      "               '2021-02-03', '2021-02-04',\n",
      "               ...\n",
      "               '2022-11-02', '2022-11-03', '2022-11-04', '2022-11-05',\n",
      "               '2022-11-06', '2022-11-07', '2022-11-08', '2022-11-09',\n",
      "               '2022-11-10', '2022-11-11'],\n",
      "              dtype='datetime64[ns]', name='created_utc', length=655, freq='D')\n"
     ]
    }
   ],
   "source": [
    "# Check the index of both DataFrames\n",
    "print(stock_data.index)\n",
    "print(daily_sentiment.index)\n",
    "\n",
    "# Ensure the index is datetime for both DataFrames\n",
    "stock_data.index = pd.to_datetime(stock_data.index)\n",
    "daily_sentiment.index = pd.to_datetime(daily_sentiment.index)\n",
    "\n",
    "# Resample `stock_data` to daily frequency if needed\n",
    "stock_data = stock_data.resample('D').ffill()\n"
   ]
  },
  {
   "cell_type": "code",
   "execution_count": 93,
   "metadata": {},
   "outputs": [
    {
     "name": "stdout",
     "output_type": "stream",
     "text": [
      "                             Open    High    Low   Close     Volume  \\\n",
      "Date                                                                  \n",
      "2019-08-19 00:00:00-04:00  0.8425  0.8675  0.835  0.8450   11550000   \n",
      "2019-08-20 00:00:00-04:00  0.8375  0.8650  0.820  0.8550   17040000   \n",
      "2019-08-21 00:00:00-04:00  0.8750  0.9050  0.860  0.8850   23643600   \n",
      "2019-08-22 00:00:00-04:00  0.9925  1.0625  0.930  0.9675  116709200   \n",
      "2019-08-23 00:00:00-04:00  0.9600  0.9750  0.890  0.9125   34643600   \n",
      "\n",
      "                           Dividends  Stock Splits      MA20     MA50  \\\n",
      "Date                                                                    \n",
      "2019-08-19 00:00:00-04:00        0.0           0.0  0.937125  1.15975   \n",
      "2019-08-20 00:00:00-04:00        0.0           0.0  0.928750  1.14965   \n",
      "2019-08-21 00:00:00-04:00        0.0           0.0  0.922000  1.13875   \n",
      "2019-08-22 00:00:00-04:00        0.0           0.0  0.920625  1.13060   \n",
      "2019-08-23 00:00:00-04:00        0.0           0.0  0.916125  1.12035   \n",
      "\n",
      "                           Volume_Change  Daily_Return  \n",
      "Date                                                    \n",
      "2019-08-19 00:00:00-04:00      -0.077682      0.018072  \n",
      "2019-08-20 00:00:00-04:00       0.475325      0.011834  \n",
      "2019-08-21 00:00:00-04:00       0.387535      0.035088  \n",
      "2019-08-22 00:00:00-04:00       3.936186      0.093220  \n",
      "2019-08-23 00:00:00-04:00      -0.703163     -0.056847  \n"
     ]
    }
   ],
   "source": [
    "# Drop any rows with missing values after the join\n",
    "stock_data.dropna(inplace=True)\n",
    "\n",
    "# Display the combined data\n",
    "print(stock_data.head())\n"
   ]
  },
  {
   "cell_type": "code",
   "execution_count": 95,
   "metadata": {},
   "outputs": [],
   "source": [
    "# Define the feature set and target variable\n",
    "features = ['MA20', 'MA50', 'Volume_Change', 'Daily_Return', 'sentiment']\n",
    "target = 'Close'\n",
    "\n",
    "\n"
   ]
  },
  {
   "cell_type": "code",
   "execution_count": 99,
   "metadata": {},
   "outputs": [
    {
     "name": "stdout",
     "output_type": "stream",
     "text": [
      "created_utc\n",
      "2021-01-26    0.427800\n",
      "2021-01-27    0.213900\n",
      "2021-01-28   -0.009871\n",
      "2021-01-29    0.271583\n",
      "2021-01-30    0.274982\n",
      "Freq: D, Name: sentiment, dtype: float64\n"
     ]
    }
   ],
   "source": [
    "# Print the head of daily_sentiment to verify the presence of 'sentiment' column\n",
    "print(daily_sentiment.head())\n",
    "\n",
    "\n"
   ]
  },
  {
   "cell_type": "code",
   "execution_count": 104,
   "metadata": {},
   "outputs": [
    {
     "name": "stdout",
     "output_type": "stream",
     "text": [
      "Column 'created_utc' not found in the DataFrame.\n"
     ]
    }
   ],
   "source": [
    "# Step 1: Define daily_sentiment\n",
    "# Assuming df_sentiment is your sentiment DataFrame\n",
    "if 'created_utc' in df_sentiment.columns:\n",
    "    if df_sentiment['created_utc'].dtype != 'datetime64[ns]':\n",
    "        df_sentiment['created_utc'] = pd.to_datetime(df_sentiment['created_utc'])\n",
    "\n",
    "    df_sentiment.set_index('created_utc', inplace=True)\n",
    "\n",
    "    daily_sentiment = df_sentiment.resample('D').mean()\n",
    "    \n",
    "    # Ensure daily_sentiment is a DataFrame\n",
    "    if isinstance(daily_sentiment, pd.Series):\n",
    "        daily_sentiment = daily_sentiment.to_frame(name='sentiment')\n",
    "\n",
    "    print(daily_sentiment.head())\n",
    "    print(daily_sentiment.columns)\n",
    "else:\n",
    "    print(\"Column 'created_utc' not found in the DataFrame.\")"
   ]
  },
  {
   "cell_type": "code",
   "execution_count": 106,
   "metadata": {},
   "outputs": [],
   "source": [
    "# Drop any rows with missing values\n",
    "stock_data.dropna(inplace=True)"
   ]
  },
  {
   "cell_type": "code",
   "execution_count": 107,
   "metadata": {},
   "outputs": [
    {
     "name": "stdout",
     "output_type": "stream",
     "text": [
      "                             Open    High    Low   Close     Volume  \\\n",
      "Date                                                                  \n",
      "2019-08-19 00:00:00-04:00  0.8425  0.8675  0.835  0.8450   11550000   \n",
      "2019-08-20 00:00:00-04:00  0.8375  0.8650  0.820  0.8550   17040000   \n",
      "2019-08-21 00:00:00-04:00  0.8750  0.9050  0.860  0.8850   23643600   \n",
      "2019-08-22 00:00:00-04:00  0.9925  1.0625  0.930  0.9675  116709200   \n",
      "2019-08-23 00:00:00-04:00  0.9600  0.9750  0.890  0.9125   34643600   \n",
      "\n",
      "                           Dividends  Stock Splits      MA20     MA50  \\\n",
      "Date                                                                    \n",
      "2019-08-19 00:00:00-04:00        0.0           0.0  0.937125  1.15975   \n",
      "2019-08-20 00:00:00-04:00        0.0           0.0  0.928750  1.14965   \n",
      "2019-08-21 00:00:00-04:00        0.0           0.0  0.922000  1.13875   \n",
      "2019-08-22 00:00:00-04:00        0.0           0.0  0.920625  1.13060   \n",
      "2019-08-23 00:00:00-04:00        0.0           0.0  0.916125  1.12035   \n",
      "\n",
      "                           Volume_Change  Daily_Return  \n",
      "Date                                                    \n",
      "2019-08-19 00:00:00-04:00      -0.077682      0.018072  \n",
      "2019-08-20 00:00:00-04:00       0.475325      0.011834  \n",
      "2019-08-21 00:00:00-04:00       0.387535      0.035088  \n",
      "2019-08-22 00:00:00-04:00       3.936186      0.093220  \n",
      "2019-08-23 00:00:00-04:00      -0.703163     -0.056847  \n"
     ]
    }
   ],
   "source": [
    "print(stock_data.head())"
   ]
  },
  {
   "cell_type": "code",
   "execution_count": 108,
   "metadata": {},
   "outputs": [
    {
     "name": "stdout",
     "output_type": "stream",
     "text": [
      "Index(['Open', 'High', 'Low', 'Close', 'Volume', 'Dividends', 'Stock Splits',\n",
      "       'MA20', 'MA50', 'Volume_Change', 'Daily_Return'],\n",
      "      dtype='object')\n"
     ]
    }
   ],
   "source": [
    "print(stock_data.columns)"
   ]
  },
  {
   "cell_type": "code",
   "execution_count": 109,
   "metadata": {},
   "outputs": [],
   "source": [
    "# Ensure the index is datetime for both DataFrames\n",
    "stock_data.index = pd.to_datetime(stock_data.index)\n",
    "daily_sentiment.index = pd.to_datetime(daily_sentiment.index)"
   ]
  },
  {
   "cell_type": "code",
   "execution_count": 110,
   "metadata": {},
   "outputs": [],
   "source": [
    "# Resample `stock_data` to daily frequency if needed\n",
    "stock_data = stock_data.resample('D').ffill()"
   ]
  },
  {
   "cell_type": "code",
   "execution_count": 111,
   "metadata": {},
   "outputs": [
    {
     "name": "stdout",
     "output_type": "stream",
     "text": [
      "DatetimeIndex(['2019-08-19 00:00:00-04:00', '2019-08-20 00:00:00-04:00',\n",
      "               '2019-08-21 00:00:00-04:00', '2019-08-22 00:00:00-04:00',\n",
      "               '2019-08-23 00:00:00-04:00', '2019-08-24 00:00:00-04:00',\n",
      "               '2019-08-25 00:00:00-04:00', '2019-08-26 00:00:00-04:00',\n",
      "               '2019-08-27 00:00:00-04:00', '2019-08-28 00:00:00-04:00',\n",
      "               ...\n",
      "               '2024-05-29 00:00:00-04:00', '2024-05-30 00:00:00-04:00',\n",
      "               '2024-05-31 00:00:00-04:00', '2024-06-01 00:00:00-04:00',\n",
      "               '2024-06-02 00:00:00-04:00', '2024-06-03 00:00:00-04:00',\n",
      "               '2024-06-04 00:00:00-04:00', '2024-06-05 00:00:00-04:00',\n",
      "               '2024-06-06 00:00:00-04:00', '2024-06-07 00:00:00-04:00'],\n",
      "              dtype='datetime64[ns, America/New_York]', name='Date', length=1755, freq='D')\n",
      "DatetimeIndex(['2021-01-26', '2021-01-27', '2021-01-28', '2021-01-29',\n",
      "               '2021-01-30', '2021-01-31', '2021-02-01', '2021-02-02',\n",
      "               '2021-02-03', '2021-02-04',\n",
      "               ...\n",
      "               '2022-11-02', '2022-11-03', '2022-11-04', '2022-11-05',\n",
      "               '2022-11-06', '2022-11-07', '2022-11-08', '2022-11-09',\n",
      "               '2022-11-10', '2022-11-11'],\n",
      "              dtype='datetime64[ns]', name='created_utc', length=655, freq='D')\n"
     ]
    }
   ],
   "source": [
    "# Print the indices of both DataFrames to check alignment\n",
    "print(stock_data.index)\n",
    "print(daily_sentiment.index)"
   ]
  },
  {
   "cell_type": "code",
   "execution_count": 125,
   "metadata": {},
   "outputs": [
    {
     "ename": "TypeError",
     "evalue": "Cannot join tz-naive with tz-aware DatetimeIndex",
     "output_type": "error",
     "traceback": [
      "\u001b[1;31m---------------------------------------------------------------------------\u001b[0m",
      "\u001b[1;31mTypeError\u001b[0m                                 Traceback (most recent call last)",
      "Cell \u001b[1;32mIn[125], line 2\u001b[0m\n\u001b[0;32m      1\u001b[0m \u001b[38;5;66;03m# Join stock data with daily sentiment data\u001b[39;00m\n\u001b[1;32m----> 2\u001b[0m stock_data \u001b[38;5;241m=\u001b[39m \u001b[43mstock_data\u001b[49m\u001b[38;5;241;43m.\u001b[39;49m\u001b[43mjoin\u001b[49m\u001b[43m(\u001b[49m\u001b[43mdaily_sentiment\u001b[49m\u001b[43m[\u001b[49m\u001b[38;5;124;43m'\u001b[39;49m\u001b[38;5;124;43msentiment\u001b[39;49m\u001b[38;5;124;43m'\u001b[39;49m\u001b[43m]\u001b[49m\u001b[43m,\u001b[49m\u001b[43m \u001b[49m\u001b[43mhow\u001b[49m\u001b[38;5;241;43m=\u001b[39;49m\u001b[38;5;124;43m'\u001b[39;49m\u001b[38;5;124;43minner\u001b[39;49m\u001b[38;5;124;43m'\u001b[39;49m\u001b[43m)\u001b[49m\n",
      "File \u001b[1;32mc:\\Users\\ayeni\\anaconda3\\envs\\dev\\lib\\site-packages\\pandas\\core\\frame.py:10412\u001b[0m, in \u001b[0;36mDataFrame.join\u001b[1;34m(self, other, on, how, lsuffix, rsuffix, sort, validate)\u001b[0m\n\u001b[0;32m  10402\u001b[0m     \u001b[38;5;28;01mif\u001b[39;00m how \u001b[38;5;241m==\u001b[39m \u001b[38;5;124m\"\u001b[39m\u001b[38;5;124mcross\u001b[39m\u001b[38;5;124m\"\u001b[39m:\n\u001b[0;32m  10403\u001b[0m         \u001b[38;5;28;01mreturn\u001b[39;00m merge(\n\u001b[0;32m  10404\u001b[0m             \u001b[38;5;28mself\u001b[39m,\n\u001b[0;32m  10405\u001b[0m             other,\n\u001b[1;32m   (...)\u001b[0m\n\u001b[0;32m  10410\u001b[0m             validate\u001b[38;5;241m=\u001b[39mvalidate,\n\u001b[0;32m  10411\u001b[0m         )\n\u001b[1;32m> 10412\u001b[0m     \u001b[38;5;28;01mreturn\u001b[39;00m \u001b[43mmerge\u001b[49m\u001b[43m(\u001b[49m\n\u001b[0;32m  10413\u001b[0m \u001b[43m        \u001b[49m\u001b[38;5;28;43mself\u001b[39;49m\u001b[43m,\u001b[49m\n\u001b[0;32m  10414\u001b[0m \u001b[43m        \u001b[49m\u001b[43mother\u001b[49m\u001b[43m,\u001b[49m\n\u001b[0;32m  10415\u001b[0m \u001b[43m        \u001b[49m\u001b[43mleft_on\u001b[49m\u001b[38;5;241;43m=\u001b[39;49m\u001b[43mon\u001b[49m\u001b[43m,\u001b[49m\n\u001b[0;32m  10416\u001b[0m \u001b[43m        \u001b[49m\u001b[43mhow\u001b[49m\u001b[38;5;241;43m=\u001b[39;49m\u001b[43mhow\u001b[49m\u001b[43m,\u001b[49m\n\u001b[0;32m  10417\u001b[0m \u001b[43m        \u001b[49m\u001b[43mleft_index\u001b[49m\u001b[38;5;241;43m=\u001b[39;49m\u001b[43mon\u001b[49m\u001b[43m \u001b[49m\u001b[38;5;129;43;01mis\u001b[39;49;00m\u001b[43m \u001b[49m\u001b[38;5;28;43;01mNone\u001b[39;49;00m\u001b[43m,\u001b[49m\n\u001b[0;32m  10418\u001b[0m \u001b[43m        \u001b[49m\u001b[43mright_index\u001b[49m\u001b[38;5;241;43m=\u001b[39;49m\u001b[38;5;28;43;01mTrue\u001b[39;49;00m\u001b[43m,\u001b[49m\n\u001b[0;32m  10419\u001b[0m \u001b[43m        \u001b[49m\u001b[43msuffixes\u001b[49m\u001b[38;5;241;43m=\u001b[39;49m\u001b[43m(\u001b[49m\u001b[43mlsuffix\u001b[49m\u001b[43m,\u001b[49m\u001b[43m \u001b[49m\u001b[43mrsuffix\u001b[49m\u001b[43m)\u001b[49m\u001b[43m,\u001b[49m\n\u001b[0;32m  10420\u001b[0m \u001b[43m        \u001b[49m\u001b[43msort\u001b[49m\u001b[38;5;241;43m=\u001b[39;49m\u001b[43msort\u001b[49m\u001b[43m,\u001b[49m\n\u001b[0;32m  10421\u001b[0m \u001b[43m        \u001b[49m\u001b[43mvalidate\u001b[49m\u001b[38;5;241;43m=\u001b[39;49m\u001b[43mvalidate\u001b[49m\u001b[43m,\u001b[49m\n\u001b[0;32m  10422\u001b[0m \u001b[43m    \u001b[49m\u001b[43m)\u001b[49m\n\u001b[0;32m  10423\u001b[0m \u001b[38;5;28;01melse\u001b[39;00m:\n\u001b[0;32m  10424\u001b[0m     \u001b[38;5;28;01mif\u001b[39;00m on \u001b[38;5;129;01mis\u001b[39;00m \u001b[38;5;129;01mnot\u001b[39;00m \u001b[38;5;28;01mNone\u001b[39;00m:\n",
      "File \u001b[1;32mc:\\Users\\ayeni\\anaconda3\\envs\\dev\\lib\\site-packages\\pandas\\core\\reshape\\merge.py:183\u001b[0m, in \u001b[0;36mmerge\u001b[1;34m(left, right, how, on, left_on, right_on, left_index, right_index, sort, suffixes, copy, indicator, validate)\u001b[0m\n\u001b[0;32m    168\u001b[0m \u001b[38;5;28;01melse\u001b[39;00m:\n\u001b[0;32m    169\u001b[0m     op \u001b[38;5;241m=\u001b[39m _MergeOperation(\n\u001b[0;32m    170\u001b[0m         left_df,\n\u001b[0;32m    171\u001b[0m         right_df,\n\u001b[1;32m   (...)\u001b[0m\n\u001b[0;32m    181\u001b[0m         validate\u001b[38;5;241m=\u001b[39mvalidate,\n\u001b[0;32m    182\u001b[0m     )\n\u001b[1;32m--> 183\u001b[0m     \u001b[38;5;28;01mreturn\u001b[39;00m \u001b[43mop\u001b[49m\u001b[38;5;241;43m.\u001b[39;49m\u001b[43mget_result\u001b[49m\u001b[43m(\u001b[49m\u001b[43mcopy\u001b[49m\u001b[38;5;241;43m=\u001b[39;49m\u001b[43mcopy\u001b[49m\u001b[43m)\u001b[49m\n",
      "File \u001b[1;32mc:\\Users\\ayeni\\anaconda3\\envs\\dev\\lib\\site-packages\\pandas\\core\\reshape\\merge.py:883\u001b[0m, in \u001b[0;36m_MergeOperation.get_result\u001b[1;34m(self, copy)\u001b[0m\n\u001b[0;32m    880\u001b[0m \u001b[38;5;28;01mif\u001b[39;00m \u001b[38;5;28mself\u001b[39m\u001b[38;5;241m.\u001b[39mindicator:\n\u001b[0;32m    881\u001b[0m     \u001b[38;5;28mself\u001b[39m\u001b[38;5;241m.\u001b[39mleft, \u001b[38;5;28mself\u001b[39m\u001b[38;5;241m.\u001b[39mright \u001b[38;5;241m=\u001b[39m \u001b[38;5;28mself\u001b[39m\u001b[38;5;241m.\u001b[39m_indicator_pre_merge(\u001b[38;5;28mself\u001b[39m\u001b[38;5;241m.\u001b[39mleft, \u001b[38;5;28mself\u001b[39m\u001b[38;5;241m.\u001b[39mright)\n\u001b[1;32m--> 883\u001b[0m join_index, left_indexer, right_indexer \u001b[38;5;241m=\u001b[39m \u001b[38;5;28;43mself\u001b[39;49m\u001b[38;5;241;43m.\u001b[39;49m\u001b[43m_get_join_info\u001b[49m\u001b[43m(\u001b[49m\u001b[43m)\u001b[49m\n\u001b[0;32m    885\u001b[0m result \u001b[38;5;241m=\u001b[39m \u001b[38;5;28mself\u001b[39m\u001b[38;5;241m.\u001b[39m_reindex_and_concat(\n\u001b[0;32m    886\u001b[0m     join_index, left_indexer, right_indexer, copy\u001b[38;5;241m=\u001b[39mcopy\n\u001b[0;32m    887\u001b[0m )\n\u001b[0;32m    888\u001b[0m result \u001b[38;5;241m=\u001b[39m result\u001b[38;5;241m.\u001b[39m__finalize__(\u001b[38;5;28mself\u001b[39m, method\u001b[38;5;241m=\u001b[39m\u001b[38;5;28mself\u001b[39m\u001b[38;5;241m.\u001b[39m_merge_type)\n",
      "File \u001b[1;32mc:\\Users\\ayeni\\anaconda3\\envs\\dev\\lib\\site-packages\\pandas\\core\\reshape\\merge.py:1119\u001b[0m, in \u001b[0;36m_MergeOperation._get_join_info\u001b[1;34m(self)\u001b[0m\n\u001b[0;32m   1116\u001b[0m right_ax \u001b[38;5;241m=\u001b[39m \u001b[38;5;28mself\u001b[39m\u001b[38;5;241m.\u001b[39mright\u001b[38;5;241m.\u001b[39mindex\n\u001b[0;32m   1118\u001b[0m \u001b[38;5;28;01mif\u001b[39;00m \u001b[38;5;28mself\u001b[39m\u001b[38;5;241m.\u001b[39mleft_index \u001b[38;5;129;01mand\u001b[39;00m \u001b[38;5;28mself\u001b[39m\u001b[38;5;241m.\u001b[39mright_index \u001b[38;5;129;01mand\u001b[39;00m \u001b[38;5;28mself\u001b[39m\u001b[38;5;241m.\u001b[39mhow \u001b[38;5;241m!=\u001b[39m \u001b[38;5;124m\"\u001b[39m\u001b[38;5;124masof\u001b[39m\u001b[38;5;124m\"\u001b[39m:\n\u001b[1;32m-> 1119\u001b[0m     join_index, left_indexer, right_indexer \u001b[38;5;241m=\u001b[39m \u001b[43mleft_ax\u001b[49m\u001b[38;5;241;43m.\u001b[39;49m\u001b[43mjoin\u001b[49m\u001b[43m(\u001b[49m\n\u001b[0;32m   1120\u001b[0m \u001b[43m        \u001b[49m\u001b[43mright_ax\u001b[49m\u001b[43m,\u001b[49m\u001b[43m \u001b[49m\u001b[43mhow\u001b[49m\u001b[38;5;241;43m=\u001b[39;49m\u001b[38;5;28;43mself\u001b[39;49m\u001b[38;5;241;43m.\u001b[39;49m\u001b[43mhow\u001b[49m\u001b[43m,\u001b[49m\u001b[43m \u001b[49m\u001b[43mreturn_indexers\u001b[49m\u001b[38;5;241;43m=\u001b[39;49m\u001b[38;5;28;43;01mTrue\u001b[39;49;00m\u001b[43m,\u001b[49m\u001b[43m \u001b[49m\u001b[43msort\u001b[49m\u001b[38;5;241;43m=\u001b[39;49m\u001b[38;5;28;43mself\u001b[39;49m\u001b[38;5;241;43m.\u001b[39;49m\u001b[43msort\u001b[49m\n\u001b[0;32m   1121\u001b[0m \u001b[43m    \u001b[49m\u001b[43m)\u001b[49m\n\u001b[0;32m   1123\u001b[0m \u001b[38;5;28;01melif\u001b[39;00m \u001b[38;5;28mself\u001b[39m\u001b[38;5;241m.\u001b[39mright_index \u001b[38;5;129;01mand\u001b[39;00m \u001b[38;5;28mself\u001b[39m\u001b[38;5;241m.\u001b[39mhow \u001b[38;5;241m==\u001b[39m \u001b[38;5;124m\"\u001b[39m\u001b[38;5;124mleft\u001b[39m\u001b[38;5;124m\"\u001b[39m:\n\u001b[0;32m   1124\u001b[0m     join_index, left_indexer, right_indexer \u001b[38;5;241m=\u001b[39m _left_join_on_index(\n\u001b[0;32m   1125\u001b[0m         left_ax, right_ax, \u001b[38;5;28mself\u001b[39m\u001b[38;5;241m.\u001b[39mleft_join_keys, sort\u001b[38;5;241m=\u001b[39m\u001b[38;5;28mself\u001b[39m\u001b[38;5;241m.\u001b[39msort\n\u001b[0;32m   1126\u001b[0m     )\n",
      "File \u001b[1;32mc:\\Users\\ayeni\\anaconda3\\envs\\dev\\lib\\site-packages\\pandas\\core\\indexes\\base.py:267\u001b[0m, in \u001b[0;36m_maybe_return_indexers.<locals>.join\u001b[1;34m(self, other, how, level, return_indexers, sort)\u001b[0m\n\u001b[0;32m    257\u001b[0m \u001b[38;5;129m@functools\u001b[39m\u001b[38;5;241m.\u001b[39mwraps(meth)\n\u001b[0;32m    258\u001b[0m \u001b[38;5;28;01mdef\u001b[39;00m \u001b[38;5;21mjoin\u001b[39m(\n\u001b[0;32m    259\u001b[0m     \u001b[38;5;28mself\u001b[39m,\n\u001b[1;32m   (...)\u001b[0m\n\u001b[0;32m    265\u001b[0m     sort: \u001b[38;5;28mbool\u001b[39m \u001b[38;5;241m=\u001b[39m \u001b[38;5;28;01mFalse\u001b[39;00m,\n\u001b[0;32m    266\u001b[0m ):\n\u001b[1;32m--> 267\u001b[0m     join_index, lidx, ridx \u001b[38;5;241m=\u001b[39m \u001b[43mmeth\u001b[49m\u001b[43m(\u001b[49m\u001b[38;5;28;43mself\u001b[39;49m\u001b[43m,\u001b[49m\u001b[43m \u001b[49m\u001b[43mother\u001b[49m\u001b[43m,\u001b[49m\u001b[43m \u001b[49m\u001b[43mhow\u001b[49m\u001b[38;5;241;43m=\u001b[39;49m\u001b[43mhow\u001b[49m\u001b[43m,\u001b[49m\u001b[43m \u001b[49m\u001b[43mlevel\u001b[49m\u001b[38;5;241;43m=\u001b[39;49m\u001b[43mlevel\u001b[49m\u001b[43m,\u001b[49m\u001b[43m \u001b[49m\u001b[43msort\u001b[49m\u001b[38;5;241;43m=\u001b[39;49m\u001b[43msort\u001b[49m\u001b[43m)\u001b[49m\n\u001b[0;32m    268\u001b[0m     \u001b[38;5;28;01mif\u001b[39;00m \u001b[38;5;129;01mnot\u001b[39;00m return_indexers:\n\u001b[0;32m    269\u001b[0m         \u001b[38;5;28;01mreturn\u001b[39;00m join_index\n",
      "File \u001b[1;32mc:\\Users\\ayeni\\anaconda3\\envs\\dev\\lib\\site-packages\\pandas\\core\\indexes\\base.py:4602\u001b[0m, in \u001b[0;36mIndex.join\u001b[1;34m(self, other, how, level, return_indexers, sort)\u001b[0m\n\u001b[0;32m   4599\u001b[0m \u001b[38;5;28;01mif\u001b[39;00m \u001b[38;5;28misinstance\u001b[39m(\u001b[38;5;28mself\u001b[39m, ABCDatetimeIndex) \u001b[38;5;129;01mand\u001b[39;00m \u001b[38;5;28misinstance\u001b[39m(other, ABCDatetimeIndex):\n\u001b[0;32m   4600\u001b[0m     \u001b[38;5;28;01mif\u001b[39;00m (\u001b[38;5;28mself\u001b[39m\u001b[38;5;241m.\u001b[39mtz \u001b[38;5;129;01mis\u001b[39;00m \u001b[38;5;28;01mNone\u001b[39;00m) \u001b[38;5;241m^\u001b[39m (other\u001b[38;5;241m.\u001b[39mtz \u001b[38;5;129;01mis\u001b[39;00m \u001b[38;5;28;01mNone\u001b[39;00m):\n\u001b[0;32m   4601\u001b[0m         \u001b[38;5;66;03m# Raise instead of casting to object below.\u001b[39;00m\n\u001b[1;32m-> 4602\u001b[0m         \u001b[38;5;28;01mraise\u001b[39;00m \u001b[38;5;167;01mTypeError\u001b[39;00m(\u001b[38;5;124m\"\u001b[39m\u001b[38;5;124mCannot join tz-naive with tz-aware DatetimeIndex\u001b[39m\u001b[38;5;124m\"\u001b[39m)\n\u001b[0;32m   4604\u001b[0m \u001b[38;5;28;01mif\u001b[39;00m \u001b[38;5;129;01mnot\u001b[39;00m \u001b[38;5;28mself\u001b[39m\u001b[38;5;241m.\u001b[39m_is_multi \u001b[38;5;129;01mand\u001b[39;00m \u001b[38;5;129;01mnot\u001b[39;00m other\u001b[38;5;241m.\u001b[39m_is_multi:\n\u001b[0;32m   4605\u001b[0m     \u001b[38;5;66;03m# We have specific handling for MultiIndex below\u001b[39;00m\n\u001b[0;32m   4606\u001b[0m     pself, pother \u001b[38;5;241m=\u001b[39m \u001b[38;5;28mself\u001b[39m\u001b[38;5;241m.\u001b[39m_maybe_promote(other)\n",
      "\u001b[1;31mTypeError\u001b[0m: Cannot join tz-naive with tz-aware DatetimeIndex"
     ]
    }
   ],
   "source": [
    "# Join stock data with daily sentiment data\n",
    "stock_data = stock_data.join(daily_sentiment['sentiment'], how='inner')"
   ]
  },
  {
   "cell_type": "code",
   "execution_count": 113,
   "metadata": {},
   "outputs": [
    {
     "data": {
      "text/plain": [
       "created_utc\n",
       "2021-01-26    0.427800\n",
       "2021-01-27    0.213900\n",
       "2021-01-28   -0.009871\n",
       "2021-01-29    0.271583\n",
       "2021-01-30    0.274982\n",
       "                ...   \n",
       "2022-11-07         NaN\n",
       "2022-11-08         NaN\n",
       "2022-11-09         NaN\n",
       "2022-11-10         NaN\n",
       "2022-11-11    0.136300\n",
       "Freq: D, Name: sentiment, Length: 655, dtype: float64"
      ]
     },
     "execution_count": 113,
     "metadata": {},
     "output_type": "execute_result"
    }
   ],
   "source": [
    "daily_sentiment"
   ]
  },
  {
   "cell_type": "code",
   "execution_count": 116,
   "metadata": {},
   "outputs": [
    {
     "data": {
      "text/html": [
       "<div>\n",
       "<style scoped>\n",
       "    .dataframe tbody tr th:only-of-type {\n",
       "        vertical-align: middle;\n",
       "    }\n",
       "\n",
       "    .dataframe tbody tr th {\n",
       "        vertical-align: top;\n",
       "    }\n",
       "\n",
       "    .dataframe thead th {\n",
       "        text-align: right;\n",
       "    }\n",
       "</style>\n",
       "<table border=\"1\" class=\"dataframe\">\n",
       "  <thead>\n",
       "    <tr style=\"text-align: right;\">\n",
       "      <th></th>\n",
       "      <th>Open</th>\n",
       "      <th>High</th>\n",
       "      <th>Low</th>\n",
       "      <th>Close</th>\n",
       "      <th>Volume</th>\n",
       "      <th>Dividends</th>\n",
       "      <th>Stock Splits</th>\n",
       "      <th>MA20</th>\n",
       "      <th>MA50</th>\n",
       "      <th>Volume_Change</th>\n",
       "      <th>Daily_Return</th>\n",
       "    </tr>\n",
       "    <tr>\n",
       "      <th>Date</th>\n",
       "      <th></th>\n",
       "      <th></th>\n",
       "      <th></th>\n",
       "      <th></th>\n",
       "      <th></th>\n",
       "      <th></th>\n",
       "      <th></th>\n",
       "      <th></th>\n",
       "      <th></th>\n",
       "      <th></th>\n",
       "      <th></th>\n",
       "    </tr>\n",
       "  </thead>\n",
       "  <tbody>\n",
       "    <tr>\n",
       "      <th>2019-08-19 00:00:00-04:00</th>\n",
       "      <td>0.842500</td>\n",
       "      <td>0.8675</td>\n",
       "      <td>0.835000</td>\n",
       "      <td>0.845000</td>\n",
       "      <td>11550000</td>\n",
       "      <td>0.0</td>\n",
       "      <td>0.0</td>\n",
       "      <td>0.937125</td>\n",
       "      <td>1.15975</td>\n",
       "      <td>-0.077682</td>\n",
       "      <td>0.018072</td>\n",
       "    </tr>\n",
       "    <tr>\n",
       "      <th>2019-08-20 00:00:00-04:00</th>\n",
       "      <td>0.837500</td>\n",
       "      <td>0.8650</td>\n",
       "      <td>0.820000</td>\n",
       "      <td>0.855000</td>\n",
       "      <td>17040000</td>\n",
       "      <td>0.0</td>\n",
       "      <td>0.0</td>\n",
       "      <td>0.928750</td>\n",
       "      <td>1.14965</td>\n",
       "      <td>0.475325</td>\n",
       "      <td>0.011834</td>\n",
       "    </tr>\n",
       "    <tr>\n",
       "      <th>2019-08-21 00:00:00-04:00</th>\n",
       "      <td>0.875000</td>\n",
       "      <td>0.9050</td>\n",
       "      <td>0.860000</td>\n",
       "      <td>0.885000</td>\n",
       "      <td>23643600</td>\n",
       "      <td>0.0</td>\n",
       "      <td>0.0</td>\n",
       "      <td>0.922000</td>\n",
       "      <td>1.13875</td>\n",
       "      <td>0.387535</td>\n",
       "      <td>0.035088</td>\n",
       "    </tr>\n",
       "    <tr>\n",
       "      <th>2019-08-22 00:00:00-04:00</th>\n",
       "      <td>0.992500</td>\n",
       "      <td>1.0625</td>\n",
       "      <td>0.930000</td>\n",
       "      <td>0.967500</td>\n",
       "      <td>116709200</td>\n",
       "      <td>0.0</td>\n",
       "      <td>0.0</td>\n",
       "      <td>0.920625</td>\n",
       "      <td>1.13060</td>\n",
       "      <td>3.936186</td>\n",
       "      <td>0.093220</td>\n",
       "    </tr>\n",
       "    <tr>\n",
       "      <th>2019-08-23 00:00:00-04:00</th>\n",
       "      <td>0.960000</td>\n",
       "      <td>0.9750</td>\n",
       "      <td>0.890000</td>\n",
       "      <td>0.912500</td>\n",
       "      <td>34643600</td>\n",
       "      <td>0.0</td>\n",
       "      <td>0.0</td>\n",
       "      <td>0.916125</td>\n",
       "      <td>1.12035</td>\n",
       "      <td>-0.703163</td>\n",
       "      <td>-0.056847</td>\n",
       "    </tr>\n",
       "    <tr>\n",
       "      <th>...</th>\n",
       "      <td>...</td>\n",
       "      <td>...</td>\n",
       "      <td>...</td>\n",
       "      <td>...</td>\n",
       "      <td>...</td>\n",
       "      <td>...</td>\n",
       "      <td>...</td>\n",
       "      <td>...</td>\n",
       "      <td>...</td>\n",
       "      <td>...</td>\n",
       "      <td>...</td>\n",
       "    </tr>\n",
       "    <tr>\n",
       "      <th>2024-06-03 00:00:00-04:00</th>\n",
       "      <td>40.189999</td>\n",
       "      <td>40.5000</td>\n",
       "      <td>26.400000</td>\n",
       "      <td>28.000000</td>\n",
       "      <td>165808300</td>\n",
       "      <td>0.0</td>\n",
       "      <td>0.0</td>\n",
       "      <td>23.755500</td>\n",
       "      <td>16.49780</td>\n",
       "      <td>6.477499</td>\n",
       "      <td>0.210026</td>\n",
       "    </tr>\n",
       "    <tr>\n",
       "      <th>2024-06-04 00:00:00-04:00</th>\n",
       "      <td>26.260000</td>\n",
       "      <td>28.0100</td>\n",
       "      <td>25.200001</td>\n",
       "      <td>26.500000</td>\n",
       "      <td>51662100</td>\n",
       "      <td>0.0</td>\n",
       "      <td>0.0</td>\n",
       "      <td>24.265000</td>\n",
       "      <td>16.76580</td>\n",
       "      <td>-0.688423</td>\n",
       "      <td>-0.053571</td>\n",
       "    </tr>\n",
       "    <tr>\n",
       "      <th>2024-06-05 00:00:00-04:00</th>\n",
       "      <td>26.299999</td>\n",
       "      <td>31.8400</td>\n",
       "      <td>26.110001</td>\n",
       "      <td>31.570000</td>\n",
       "      <td>73156400</td>\n",
       "      <td>0.0</td>\n",
       "      <td>0.0</td>\n",
       "      <td>25.028000</td>\n",
       "      <td>17.09480</td>\n",
       "      <td>0.416055</td>\n",
       "      <td>0.191321</td>\n",
       "    </tr>\n",
       "    <tr>\n",
       "      <th>2024-06-06 00:00:00-04:00</th>\n",
       "      <td>31.570000</td>\n",
       "      <td>47.5000</td>\n",
       "      <td>31.280001</td>\n",
       "      <td>46.549999</td>\n",
       "      <td>206685800</td>\n",
       "      <td>0.0</td>\n",
       "      <td>0.0</td>\n",
       "      <td>26.559500</td>\n",
       "      <td>17.71580</td>\n",
       "      <td>1.825259</td>\n",
       "      <td>0.474501</td>\n",
       "    </tr>\n",
       "    <tr>\n",
       "      <th>2024-06-07 00:00:00-04:00</th>\n",
       "      <td>37.689999</td>\n",
       "      <td>48.0000</td>\n",
       "      <td>26.120001</td>\n",
       "      <td>28.219999</td>\n",
       "      <td>277624400</td>\n",
       "      <td>0.0</td>\n",
       "      <td>0.0</td>\n",
       "      <td>27.070000</td>\n",
       "      <td>18.01680</td>\n",
       "      <td>0.343220</td>\n",
       "      <td>-0.393770</td>\n",
       "    </tr>\n",
       "  </tbody>\n",
       "</table>\n",
       "<p>1755 rows × 11 columns</p>\n",
       "</div>"
      ],
      "text/plain": [
       "                                Open     High        Low      Close  \\\n",
       "Date                                                                  \n",
       "2019-08-19 00:00:00-04:00   0.842500   0.8675   0.835000   0.845000   \n",
       "2019-08-20 00:00:00-04:00   0.837500   0.8650   0.820000   0.855000   \n",
       "2019-08-21 00:00:00-04:00   0.875000   0.9050   0.860000   0.885000   \n",
       "2019-08-22 00:00:00-04:00   0.992500   1.0625   0.930000   0.967500   \n",
       "2019-08-23 00:00:00-04:00   0.960000   0.9750   0.890000   0.912500   \n",
       "...                              ...      ...        ...        ...   \n",
       "2024-06-03 00:00:00-04:00  40.189999  40.5000  26.400000  28.000000   \n",
       "2024-06-04 00:00:00-04:00  26.260000  28.0100  25.200001  26.500000   \n",
       "2024-06-05 00:00:00-04:00  26.299999  31.8400  26.110001  31.570000   \n",
       "2024-06-06 00:00:00-04:00  31.570000  47.5000  31.280001  46.549999   \n",
       "2024-06-07 00:00:00-04:00  37.689999  48.0000  26.120001  28.219999   \n",
       "\n",
       "                              Volume  Dividends  Stock Splits       MA20  \\\n",
       "Date                                                                       \n",
       "2019-08-19 00:00:00-04:00   11550000        0.0           0.0   0.937125   \n",
       "2019-08-20 00:00:00-04:00   17040000        0.0           0.0   0.928750   \n",
       "2019-08-21 00:00:00-04:00   23643600        0.0           0.0   0.922000   \n",
       "2019-08-22 00:00:00-04:00  116709200        0.0           0.0   0.920625   \n",
       "2019-08-23 00:00:00-04:00   34643600        0.0           0.0   0.916125   \n",
       "...                              ...        ...           ...        ...   \n",
       "2024-06-03 00:00:00-04:00  165808300        0.0           0.0  23.755500   \n",
       "2024-06-04 00:00:00-04:00   51662100        0.0           0.0  24.265000   \n",
       "2024-06-05 00:00:00-04:00   73156400        0.0           0.0  25.028000   \n",
       "2024-06-06 00:00:00-04:00  206685800        0.0           0.0  26.559500   \n",
       "2024-06-07 00:00:00-04:00  277624400        0.0           0.0  27.070000   \n",
       "\n",
       "                               MA50  Volume_Change  Daily_Return  \n",
       "Date                                                              \n",
       "2019-08-19 00:00:00-04:00   1.15975      -0.077682      0.018072  \n",
       "2019-08-20 00:00:00-04:00   1.14965       0.475325      0.011834  \n",
       "2019-08-21 00:00:00-04:00   1.13875       0.387535      0.035088  \n",
       "2019-08-22 00:00:00-04:00   1.13060       3.936186      0.093220  \n",
       "2019-08-23 00:00:00-04:00   1.12035      -0.703163     -0.056847  \n",
       "...                             ...            ...           ...  \n",
       "2024-06-03 00:00:00-04:00  16.49780       6.477499      0.210026  \n",
       "2024-06-04 00:00:00-04:00  16.76580      -0.688423     -0.053571  \n",
       "2024-06-05 00:00:00-04:00  17.09480       0.416055      0.191321  \n",
       "2024-06-06 00:00:00-04:00  17.71580       1.825259      0.474501  \n",
       "2024-06-07 00:00:00-04:00  18.01680       0.343220     -0.393770  \n",
       "\n",
       "[1755 rows x 11 columns]"
      ]
     },
     "execution_count": 116,
     "metadata": {},
     "output_type": "execute_result"
    }
   ],
   "source": [
    "stock_data"
   ]
  },
  {
   "cell_type": "code",
   "execution_count": 122,
   "metadata": {},
   "outputs": [
    {
     "name": "stdout",
     "output_type": "stream",
     "text": [
      "Column 'created_utc' not found in the DataFrame.\n"
     ]
    }
   ],
   "source": [
    "#Assuming df_sentiment is your sentiment DataFrame\n",
    "if 'created_utc' in df_sentiment.columns:\n",
    "    if df_sentiment['created_utc'].dtype != 'datetime64[ns]':\n",
    "        df_sentiment['created_utc'] = pd.to_datetime(df_sentiment['created_utc'])\n",
    "\n",
    "    df_sentiment.set_index('created_utc', inplace=True)\n",
    "\n",
    "    # Resample and ensure daily_sentiment is a DataFrame with a proper index\n",
    "    daily_sentiment = df_sentiment.resample('D').mean()\n",
    "    \n",
    "    # If daily_sentiment is a Series, convert it to a DataFrame\n",
    "    if isinstance(daily_sentiment, pd.Series):\n",
    "        daily_sentiment = daily_sentiment.to_frame(name='sentiment')\n",
    "\n",
    "    # Display the content of daily_sentiment\n",
    "    print(daily_sentiment.head())\n",
    "    print(daily_sentiment.info())\n",
    "    print(daily_sentiment.columns)\n",
    "    print(type(daily_sentiment))\n",
    "else:\n",
    "    print(\"Column 'created_utc' not found in the DataFrame.\")\n",
    "\n",
    "\n",
    "\n"
   ]
  },
  {
   "cell_type": "code",
   "execution_count": 123,
   "metadata": {},
   "outputs": [],
   "source": [
    "   # If daily_sentiment is a Series, convert it to a DataFrame\n",
    "if isinstance(daily_sentiment, pd.Series):\n",
    "        daily_sentiment = daily_sentiment.to_frame(name='sentiment')\n",
    "\n",
    "\n"
   ]
  },
  {
   "cell_type": "code",
   "execution_count": 128,
   "metadata": {},
   "outputs": [
    {
     "name": "stdout",
     "output_type": "stream",
     "text": [
      "Column 'created_utc' not found in the DataFrame.\n",
      "                             Open    High    Low   Close     Volume  \\\n",
      "Date                                                                  \n",
      "2019-08-19 00:00:00-04:00  0.8425  0.8675  0.835  0.8450   11550000   \n",
      "2019-08-20 00:00:00-04:00  0.8375  0.8650  0.820  0.8550   17040000   \n",
      "2019-08-21 00:00:00-04:00  0.8750  0.9050  0.860  0.8850   23643600   \n",
      "2019-08-22 00:00:00-04:00  0.9925  1.0625  0.930  0.9675  116709200   \n",
      "2019-08-23 00:00:00-04:00  0.9600  0.9750  0.890  0.9125   34643600   \n",
      "\n",
      "                           Dividends  Stock Splits      MA20     MA50  \\\n",
      "Date                                                                    \n",
      "2019-08-19 00:00:00-04:00        0.0           0.0  0.937125  1.15975   \n",
      "2019-08-20 00:00:00-04:00        0.0           0.0  0.928750  1.14965   \n",
      "2019-08-21 00:00:00-04:00        0.0           0.0  0.922000  1.13875   \n",
      "2019-08-22 00:00:00-04:00        0.0           0.0  0.920625  1.13060   \n",
      "2019-08-23 00:00:00-04:00        0.0           0.0  0.916125  1.12035   \n",
      "\n",
      "                           Volume_Change  Daily_Return  \n",
      "Date                                                    \n",
      "2019-08-19 00:00:00-04:00      -0.077682      0.018072  \n",
      "2019-08-20 00:00:00-04:00       0.475325      0.011834  \n",
      "2019-08-21 00:00:00-04:00       0.387535      0.035088  \n",
      "2019-08-22 00:00:00-04:00       3.936186      0.093220  \n",
      "2019-08-23 00:00:00-04:00      -0.703163     -0.056847  \n",
      "<class 'pandas.core.frame.DataFrame'>\n",
      "DatetimeIndex: 1211 entries, 2019-08-19 00:00:00-04:00 to 2024-06-10 00:00:00-04:00\n",
      "Data columns (total 11 columns):\n",
      " #   Column         Non-Null Count  Dtype  \n",
      "---  ------         --------------  -----  \n",
      " 0   Open           1211 non-null   float64\n",
      " 1   High           1211 non-null   float64\n",
      " 2   Low            1211 non-null   float64\n",
      " 3   Close          1211 non-null   float64\n",
      " 4   Volume         1211 non-null   int64  \n",
      " 5   Dividends      1211 non-null   float64\n",
      " 6   Stock Splits   1211 non-null   float64\n",
      " 7   MA20           1211 non-null   float64\n",
      " 8   MA50           1211 non-null   float64\n",
      " 9   Volume_Change  1211 non-null   float64\n",
      " 10  Daily_Return   1211 non-null   float64\n",
      "dtypes: float64(10), int64(1)\n",
      "memory usage: 113.5 KB\n",
      "None\n",
      "Index(['Open', 'High', 'Low', 'Close', 'Volume', 'Dividends', 'Stock Splits',\n",
      "       'MA20', 'MA50', 'Volume_Change', 'Daily_Return'],\n",
      "      dtype='object')\n",
      "DatetimeIndex(['2019-08-19 00:00:00-04:00', '2019-08-20 00:00:00-04:00',\n",
      "               '2019-08-21 00:00:00-04:00', '2019-08-22 00:00:00-04:00',\n",
      "               '2019-08-23 00:00:00-04:00', '2019-08-26 00:00:00-04:00',\n",
      "               '2019-08-27 00:00:00-04:00', '2019-08-28 00:00:00-04:00',\n",
      "               '2019-08-29 00:00:00-04:00', '2019-08-30 00:00:00-04:00',\n",
      "               ...\n",
      "               '2024-05-28 00:00:00-04:00', '2024-05-29 00:00:00-04:00',\n",
      "               '2024-05-30 00:00:00-04:00', '2024-05-31 00:00:00-04:00',\n",
      "               '2024-06-03 00:00:00-04:00', '2024-06-04 00:00:00-04:00',\n",
      "               '2024-06-05 00:00:00-04:00', '2024-06-06 00:00:00-04:00',\n",
      "               '2024-06-07 00:00:00-04:00', '2024-06-10 00:00:00-04:00'],\n",
      "              dtype='datetime64[ns, America/New_York]', name='Date', length=1211, freq=None)\n",
      "DatetimeIndex(['2021-01-26', '2021-01-27', '2021-01-28', '2021-01-29',\n",
      "               '2021-01-30', '2021-01-31', '2021-02-01', '2021-02-02',\n",
      "               '2021-02-03', '2021-02-04',\n",
      "               ...\n",
      "               '2022-11-02', '2022-11-03', '2022-11-04', '2022-11-05',\n",
      "               '2022-11-06', '2022-11-07', '2022-11-08', '2022-11-09',\n",
      "               '2022-11-10', '2022-11-11'],\n",
      "              dtype='datetime64[ns]', name='created_utc', length=655, freq='D')\n"
     ]
    },
    {
     "ename": "TypeError",
     "evalue": "Cannot join tz-naive with tz-aware DatetimeIndex",
     "output_type": "error",
     "traceback": [
      "\u001b[1;31m---------------------------------------------------------------------------\u001b[0m",
      "\u001b[1;31mTypeError\u001b[0m                                 Traceback (most recent call last)",
      "Cell \u001b[1;32mIn[128], line 57\u001b[0m\n\u001b[0;32m     54\u001b[0m \u001b[38;5;28mprint\u001b[39m(daily_sentiment\u001b[38;5;241m.\u001b[39mindex)\n\u001b[0;32m     56\u001b[0m \u001b[38;5;66;03m# Join stock data with daily sentiment data\u001b[39;00m\n\u001b[1;32m---> 57\u001b[0m stock_data \u001b[38;5;241m=\u001b[39m \u001b[43mstock_data\u001b[49m\u001b[38;5;241;43m.\u001b[39;49m\u001b[43mjoin\u001b[49m\u001b[43m(\u001b[49m\u001b[43mdaily_sentiment\u001b[49m\u001b[43m,\u001b[49m\u001b[43m \u001b[49m\u001b[43mhow\u001b[49m\u001b[38;5;241;43m=\u001b[39;49m\u001b[38;5;124;43m'\u001b[39;49m\u001b[38;5;124;43minner\u001b[39;49m\u001b[38;5;124;43m'\u001b[39;49m\u001b[43m)\u001b[49m\n\u001b[0;32m     59\u001b[0m \u001b[38;5;66;03m# Print the columns of stock_data after the join\u001b[39;00m\n\u001b[0;32m     60\u001b[0m \u001b[38;5;28mprint\u001b[39m(stock_data\u001b[38;5;241m.\u001b[39mcolumns)\n",
      "File \u001b[1;32mc:\\Users\\ayeni\\anaconda3\\envs\\dev\\lib\\site-packages\\pandas\\core\\frame.py:10412\u001b[0m, in \u001b[0;36mDataFrame.join\u001b[1;34m(self, other, on, how, lsuffix, rsuffix, sort, validate)\u001b[0m\n\u001b[0;32m  10402\u001b[0m     \u001b[38;5;28;01mif\u001b[39;00m how \u001b[38;5;241m==\u001b[39m \u001b[38;5;124m\"\u001b[39m\u001b[38;5;124mcross\u001b[39m\u001b[38;5;124m\"\u001b[39m:\n\u001b[0;32m  10403\u001b[0m         \u001b[38;5;28;01mreturn\u001b[39;00m merge(\n\u001b[0;32m  10404\u001b[0m             \u001b[38;5;28mself\u001b[39m,\n\u001b[0;32m  10405\u001b[0m             other,\n\u001b[1;32m   (...)\u001b[0m\n\u001b[0;32m  10410\u001b[0m             validate\u001b[38;5;241m=\u001b[39mvalidate,\n\u001b[0;32m  10411\u001b[0m         )\n\u001b[1;32m> 10412\u001b[0m     \u001b[38;5;28;01mreturn\u001b[39;00m \u001b[43mmerge\u001b[49m\u001b[43m(\u001b[49m\n\u001b[0;32m  10413\u001b[0m \u001b[43m        \u001b[49m\u001b[38;5;28;43mself\u001b[39;49m\u001b[43m,\u001b[49m\n\u001b[0;32m  10414\u001b[0m \u001b[43m        \u001b[49m\u001b[43mother\u001b[49m\u001b[43m,\u001b[49m\n\u001b[0;32m  10415\u001b[0m \u001b[43m        \u001b[49m\u001b[43mleft_on\u001b[49m\u001b[38;5;241;43m=\u001b[39;49m\u001b[43mon\u001b[49m\u001b[43m,\u001b[49m\n\u001b[0;32m  10416\u001b[0m \u001b[43m        \u001b[49m\u001b[43mhow\u001b[49m\u001b[38;5;241;43m=\u001b[39;49m\u001b[43mhow\u001b[49m\u001b[43m,\u001b[49m\n\u001b[0;32m  10417\u001b[0m \u001b[43m        \u001b[49m\u001b[43mleft_index\u001b[49m\u001b[38;5;241;43m=\u001b[39;49m\u001b[43mon\u001b[49m\u001b[43m \u001b[49m\u001b[38;5;129;43;01mis\u001b[39;49;00m\u001b[43m \u001b[49m\u001b[38;5;28;43;01mNone\u001b[39;49;00m\u001b[43m,\u001b[49m\n\u001b[0;32m  10418\u001b[0m \u001b[43m        \u001b[49m\u001b[43mright_index\u001b[49m\u001b[38;5;241;43m=\u001b[39;49m\u001b[38;5;28;43;01mTrue\u001b[39;49;00m\u001b[43m,\u001b[49m\n\u001b[0;32m  10419\u001b[0m \u001b[43m        \u001b[49m\u001b[43msuffixes\u001b[49m\u001b[38;5;241;43m=\u001b[39;49m\u001b[43m(\u001b[49m\u001b[43mlsuffix\u001b[49m\u001b[43m,\u001b[49m\u001b[43m \u001b[49m\u001b[43mrsuffix\u001b[49m\u001b[43m)\u001b[49m\u001b[43m,\u001b[49m\n\u001b[0;32m  10420\u001b[0m \u001b[43m        \u001b[49m\u001b[43msort\u001b[49m\u001b[38;5;241;43m=\u001b[39;49m\u001b[43msort\u001b[49m\u001b[43m,\u001b[49m\n\u001b[0;32m  10421\u001b[0m \u001b[43m        \u001b[49m\u001b[43mvalidate\u001b[49m\u001b[38;5;241;43m=\u001b[39;49m\u001b[43mvalidate\u001b[49m\u001b[43m,\u001b[49m\n\u001b[0;32m  10422\u001b[0m \u001b[43m    \u001b[49m\u001b[43m)\u001b[49m\n\u001b[0;32m  10423\u001b[0m \u001b[38;5;28;01melse\u001b[39;00m:\n\u001b[0;32m  10424\u001b[0m     \u001b[38;5;28;01mif\u001b[39;00m on \u001b[38;5;129;01mis\u001b[39;00m \u001b[38;5;129;01mnot\u001b[39;00m \u001b[38;5;28;01mNone\u001b[39;00m:\n",
      "File \u001b[1;32mc:\\Users\\ayeni\\anaconda3\\envs\\dev\\lib\\site-packages\\pandas\\core\\reshape\\merge.py:183\u001b[0m, in \u001b[0;36mmerge\u001b[1;34m(left, right, how, on, left_on, right_on, left_index, right_index, sort, suffixes, copy, indicator, validate)\u001b[0m\n\u001b[0;32m    168\u001b[0m \u001b[38;5;28;01melse\u001b[39;00m:\n\u001b[0;32m    169\u001b[0m     op \u001b[38;5;241m=\u001b[39m _MergeOperation(\n\u001b[0;32m    170\u001b[0m         left_df,\n\u001b[0;32m    171\u001b[0m         right_df,\n\u001b[1;32m   (...)\u001b[0m\n\u001b[0;32m    181\u001b[0m         validate\u001b[38;5;241m=\u001b[39mvalidate,\n\u001b[0;32m    182\u001b[0m     )\n\u001b[1;32m--> 183\u001b[0m     \u001b[38;5;28;01mreturn\u001b[39;00m \u001b[43mop\u001b[49m\u001b[38;5;241;43m.\u001b[39;49m\u001b[43mget_result\u001b[49m\u001b[43m(\u001b[49m\u001b[43mcopy\u001b[49m\u001b[38;5;241;43m=\u001b[39;49m\u001b[43mcopy\u001b[49m\u001b[43m)\u001b[49m\n",
      "File \u001b[1;32mc:\\Users\\ayeni\\anaconda3\\envs\\dev\\lib\\site-packages\\pandas\\core\\reshape\\merge.py:883\u001b[0m, in \u001b[0;36m_MergeOperation.get_result\u001b[1;34m(self, copy)\u001b[0m\n\u001b[0;32m    880\u001b[0m \u001b[38;5;28;01mif\u001b[39;00m \u001b[38;5;28mself\u001b[39m\u001b[38;5;241m.\u001b[39mindicator:\n\u001b[0;32m    881\u001b[0m     \u001b[38;5;28mself\u001b[39m\u001b[38;5;241m.\u001b[39mleft, \u001b[38;5;28mself\u001b[39m\u001b[38;5;241m.\u001b[39mright \u001b[38;5;241m=\u001b[39m \u001b[38;5;28mself\u001b[39m\u001b[38;5;241m.\u001b[39m_indicator_pre_merge(\u001b[38;5;28mself\u001b[39m\u001b[38;5;241m.\u001b[39mleft, \u001b[38;5;28mself\u001b[39m\u001b[38;5;241m.\u001b[39mright)\n\u001b[1;32m--> 883\u001b[0m join_index, left_indexer, right_indexer \u001b[38;5;241m=\u001b[39m \u001b[38;5;28;43mself\u001b[39;49m\u001b[38;5;241;43m.\u001b[39;49m\u001b[43m_get_join_info\u001b[49m\u001b[43m(\u001b[49m\u001b[43m)\u001b[49m\n\u001b[0;32m    885\u001b[0m result \u001b[38;5;241m=\u001b[39m \u001b[38;5;28mself\u001b[39m\u001b[38;5;241m.\u001b[39m_reindex_and_concat(\n\u001b[0;32m    886\u001b[0m     join_index, left_indexer, right_indexer, copy\u001b[38;5;241m=\u001b[39mcopy\n\u001b[0;32m    887\u001b[0m )\n\u001b[0;32m    888\u001b[0m result \u001b[38;5;241m=\u001b[39m result\u001b[38;5;241m.\u001b[39m__finalize__(\u001b[38;5;28mself\u001b[39m, method\u001b[38;5;241m=\u001b[39m\u001b[38;5;28mself\u001b[39m\u001b[38;5;241m.\u001b[39m_merge_type)\n",
      "File \u001b[1;32mc:\\Users\\ayeni\\anaconda3\\envs\\dev\\lib\\site-packages\\pandas\\core\\reshape\\merge.py:1119\u001b[0m, in \u001b[0;36m_MergeOperation._get_join_info\u001b[1;34m(self)\u001b[0m\n\u001b[0;32m   1116\u001b[0m right_ax \u001b[38;5;241m=\u001b[39m \u001b[38;5;28mself\u001b[39m\u001b[38;5;241m.\u001b[39mright\u001b[38;5;241m.\u001b[39mindex\n\u001b[0;32m   1118\u001b[0m \u001b[38;5;28;01mif\u001b[39;00m \u001b[38;5;28mself\u001b[39m\u001b[38;5;241m.\u001b[39mleft_index \u001b[38;5;129;01mand\u001b[39;00m \u001b[38;5;28mself\u001b[39m\u001b[38;5;241m.\u001b[39mright_index \u001b[38;5;129;01mand\u001b[39;00m \u001b[38;5;28mself\u001b[39m\u001b[38;5;241m.\u001b[39mhow \u001b[38;5;241m!=\u001b[39m \u001b[38;5;124m\"\u001b[39m\u001b[38;5;124masof\u001b[39m\u001b[38;5;124m\"\u001b[39m:\n\u001b[1;32m-> 1119\u001b[0m     join_index, left_indexer, right_indexer \u001b[38;5;241m=\u001b[39m \u001b[43mleft_ax\u001b[49m\u001b[38;5;241;43m.\u001b[39;49m\u001b[43mjoin\u001b[49m\u001b[43m(\u001b[49m\n\u001b[0;32m   1120\u001b[0m \u001b[43m        \u001b[49m\u001b[43mright_ax\u001b[49m\u001b[43m,\u001b[49m\u001b[43m \u001b[49m\u001b[43mhow\u001b[49m\u001b[38;5;241;43m=\u001b[39;49m\u001b[38;5;28;43mself\u001b[39;49m\u001b[38;5;241;43m.\u001b[39;49m\u001b[43mhow\u001b[49m\u001b[43m,\u001b[49m\u001b[43m \u001b[49m\u001b[43mreturn_indexers\u001b[49m\u001b[38;5;241;43m=\u001b[39;49m\u001b[38;5;28;43;01mTrue\u001b[39;49;00m\u001b[43m,\u001b[49m\u001b[43m \u001b[49m\u001b[43msort\u001b[49m\u001b[38;5;241;43m=\u001b[39;49m\u001b[38;5;28;43mself\u001b[39;49m\u001b[38;5;241;43m.\u001b[39;49m\u001b[43msort\u001b[49m\n\u001b[0;32m   1121\u001b[0m \u001b[43m    \u001b[49m\u001b[43m)\u001b[49m\n\u001b[0;32m   1123\u001b[0m \u001b[38;5;28;01melif\u001b[39;00m \u001b[38;5;28mself\u001b[39m\u001b[38;5;241m.\u001b[39mright_index \u001b[38;5;129;01mand\u001b[39;00m \u001b[38;5;28mself\u001b[39m\u001b[38;5;241m.\u001b[39mhow \u001b[38;5;241m==\u001b[39m \u001b[38;5;124m\"\u001b[39m\u001b[38;5;124mleft\u001b[39m\u001b[38;5;124m\"\u001b[39m:\n\u001b[0;32m   1124\u001b[0m     join_index, left_indexer, right_indexer \u001b[38;5;241m=\u001b[39m _left_join_on_index(\n\u001b[0;32m   1125\u001b[0m         left_ax, right_ax, \u001b[38;5;28mself\u001b[39m\u001b[38;5;241m.\u001b[39mleft_join_keys, sort\u001b[38;5;241m=\u001b[39m\u001b[38;5;28mself\u001b[39m\u001b[38;5;241m.\u001b[39msort\n\u001b[0;32m   1126\u001b[0m     )\n",
      "File \u001b[1;32mc:\\Users\\ayeni\\anaconda3\\envs\\dev\\lib\\site-packages\\pandas\\core\\indexes\\base.py:267\u001b[0m, in \u001b[0;36m_maybe_return_indexers.<locals>.join\u001b[1;34m(self, other, how, level, return_indexers, sort)\u001b[0m\n\u001b[0;32m    257\u001b[0m \u001b[38;5;129m@functools\u001b[39m\u001b[38;5;241m.\u001b[39mwraps(meth)\n\u001b[0;32m    258\u001b[0m \u001b[38;5;28;01mdef\u001b[39;00m \u001b[38;5;21mjoin\u001b[39m(\n\u001b[0;32m    259\u001b[0m     \u001b[38;5;28mself\u001b[39m,\n\u001b[1;32m   (...)\u001b[0m\n\u001b[0;32m    265\u001b[0m     sort: \u001b[38;5;28mbool\u001b[39m \u001b[38;5;241m=\u001b[39m \u001b[38;5;28;01mFalse\u001b[39;00m,\n\u001b[0;32m    266\u001b[0m ):\n\u001b[1;32m--> 267\u001b[0m     join_index, lidx, ridx \u001b[38;5;241m=\u001b[39m \u001b[43mmeth\u001b[49m\u001b[43m(\u001b[49m\u001b[38;5;28;43mself\u001b[39;49m\u001b[43m,\u001b[49m\u001b[43m \u001b[49m\u001b[43mother\u001b[49m\u001b[43m,\u001b[49m\u001b[43m \u001b[49m\u001b[43mhow\u001b[49m\u001b[38;5;241;43m=\u001b[39;49m\u001b[43mhow\u001b[49m\u001b[43m,\u001b[49m\u001b[43m \u001b[49m\u001b[43mlevel\u001b[49m\u001b[38;5;241;43m=\u001b[39;49m\u001b[43mlevel\u001b[49m\u001b[43m,\u001b[49m\u001b[43m \u001b[49m\u001b[43msort\u001b[49m\u001b[38;5;241;43m=\u001b[39;49m\u001b[43msort\u001b[49m\u001b[43m)\u001b[49m\n\u001b[0;32m    268\u001b[0m     \u001b[38;5;28;01mif\u001b[39;00m \u001b[38;5;129;01mnot\u001b[39;00m return_indexers:\n\u001b[0;32m    269\u001b[0m         \u001b[38;5;28;01mreturn\u001b[39;00m join_index\n",
      "File \u001b[1;32mc:\\Users\\ayeni\\anaconda3\\envs\\dev\\lib\\site-packages\\pandas\\core\\indexes\\base.py:4602\u001b[0m, in \u001b[0;36mIndex.join\u001b[1;34m(self, other, how, level, return_indexers, sort)\u001b[0m\n\u001b[0;32m   4599\u001b[0m \u001b[38;5;28;01mif\u001b[39;00m \u001b[38;5;28misinstance\u001b[39m(\u001b[38;5;28mself\u001b[39m, ABCDatetimeIndex) \u001b[38;5;129;01mand\u001b[39;00m \u001b[38;5;28misinstance\u001b[39m(other, ABCDatetimeIndex):\n\u001b[0;32m   4600\u001b[0m     \u001b[38;5;28;01mif\u001b[39;00m (\u001b[38;5;28mself\u001b[39m\u001b[38;5;241m.\u001b[39mtz \u001b[38;5;129;01mis\u001b[39;00m \u001b[38;5;28;01mNone\u001b[39;00m) \u001b[38;5;241m^\u001b[39m (other\u001b[38;5;241m.\u001b[39mtz \u001b[38;5;129;01mis\u001b[39;00m \u001b[38;5;28;01mNone\u001b[39;00m):\n\u001b[0;32m   4601\u001b[0m         \u001b[38;5;66;03m# Raise instead of casting to object below.\u001b[39;00m\n\u001b[1;32m-> 4602\u001b[0m         \u001b[38;5;28;01mraise\u001b[39;00m \u001b[38;5;167;01mTypeError\u001b[39;00m(\u001b[38;5;124m\"\u001b[39m\u001b[38;5;124mCannot join tz-naive with tz-aware DatetimeIndex\u001b[39m\u001b[38;5;124m\"\u001b[39m)\n\u001b[0;32m   4604\u001b[0m \u001b[38;5;28;01mif\u001b[39;00m \u001b[38;5;129;01mnot\u001b[39;00m \u001b[38;5;28mself\u001b[39m\u001b[38;5;241m.\u001b[39m_is_multi \u001b[38;5;129;01mand\u001b[39;00m \u001b[38;5;129;01mnot\u001b[39;00m other\u001b[38;5;241m.\u001b[39m_is_multi:\n\u001b[0;32m   4605\u001b[0m     \u001b[38;5;66;03m# We have specific handling for MultiIndex below\u001b[39;00m\n\u001b[0;32m   4606\u001b[0m     pself, pother \u001b[38;5;241m=\u001b[39m \u001b[38;5;28mself\u001b[39m\u001b[38;5;241m.\u001b[39m_maybe_promote(other)\n",
      "\u001b[1;31mTypeError\u001b[0m: Cannot join tz-naive with tz-aware DatetimeIndex"
     ]
    }
   ],
   "source": [
    "import pandas as pd\n",
    "import yfinance as yf\n",
    "\n",
    "# Assuming df_sentiment is your sentiment DataFrame\n",
    "if 'created_utc' in df_sentiment.columns:\n",
    "    if df_sentiment['created_utc'].dtype != 'datetime64[ns]':\n",
    "        df_sentiment['created_utc'] = pd.to_datetime(df_sentiment['created_utc'])\n",
    "\n",
    "    df_sentiment.set_index('created_utc', inplace=True)\n",
    "\n",
    "    # Resample and ensure daily_sentiment is a DataFrame with a proper index\n",
    "    daily_sentiment = df_sentiment.resample('D').mean()\n",
    "    \n",
    "    # If daily_sentiment is a Series, convert it to a DataFrame\n",
    "    if isinstance(daily_sentiment, pd.Series):\n",
    "        daily_sentiment = daily_sentiment.to_frame(name='sentiment')\n",
    "\n",
    "    # Ensure 'sentiment' column exists\n",
    "    if 'sentiment' not in daily_sentiment.columns:\n",
    "        daily_sentiment['sentiment'] = df_sentiment['sentiment']\n",
    "\n",
    "    # Display the content of daily_sentiment\n",
    "    print(daily_sentiment.head())\n",
    "    print(daily_sentiment.info())\n",
    "    print(daily_sentiment.columns)\n",
    "    print(type(daily_sentiment))\n",
    "else:\n",
    "    print(\"Column 'created_utc' not found in the DataFrame.\")\n",
    "\n",
    "# Fetch stock price data\n",
    "ticker = 'GME'\n",
    "stock = yf.Ticker(ticker)\n",
    "stock_data = stock.history(period='5y')\n",
    "\n",
    "# Calculate additional stock data features\n",
    "stock_data['MA20'] = stock_data['Close'].rolling(window=20).mean()\n",
    "stock_data['MA50'] = stock_data['Close'].rolling(window=50).mean()\n",
    "stock_data['Volume_Change'] = stock_data['Volume'].pct_change()\n",
    "stock_data['Daily_Return'] = stock_data['Close'].pct_change()\n",
    "\n",
    "# Drop any rows with missing values\n",
    "stock_data.dropna(inplace=True)\n",
    "\n",
    "print(stock_data.head())\n",
    "print(stock_data.info())\n",
    "print(stock_data.columns)\n",
    "\n",
    "# Ensure the index is datetime for both DataFrames\n",
    "stock_data.index = pd.to_datetime(stock_data.index)\n",
    "daily_sentiment.index = pd.to_datetime(daily_sentiment.index)\n",
    "\n",
    "# Print the indices of both DataFrames to check alignment\n",
    "print(stock_data.index)\n",
    "print(daily_sentiment.index)\n",
    "\n",
    "# Join stock data with daily sentiment data\n",
    "stock_data = stock_data.join(daily_sentiment, how='inner')\n",
    "\n",
    "# Print the columns of stock_data after the join\n",
    "print(stock_data.columns)\n",
    "\n",
    "# Drop any rows with missing values after the join\n",
    "stock_data.dropna(inplace=True)\n",
    "\n",
    "# Display the combined data\n",
    "print(stock_data.head())\n",
    "print(stock_data.info())\n",
    "print(stock_data.columns)\n"
   ]
  },
  {
   "cell_type": "code",
   "execution_count": 129,
   "metadata": {},
   "outputs": [
    {
     "name": "stdout",
     "output_type": "stream",
     "text": [
      "Column 'created_utc' not found in the DataFrame.\n",
      "                             Open    High    Low   Close     Volume  \\\n",
      "Date                                                                  \n",
      "2019-08-19 00:00:00-04:00  0.8425  0.8675  0.835  0.8450   11550000   \n",
      "2019-08-20 00:00:00-04:00  0.8375  0.8650  0.820  0.8550   17040000   \n",
      "2019-08-21 00:00:00-04:00  0.8750  0.9050  0.860  0.8850   23643600   \n",
      "2019-08-22 00:00:00-04:00  0.9925  1.0625  0.930  0.9675  116709200   \n",
      "2019-08-23 00:00:00-04:00  0.9600  0.9750  0.890  0.9125   34643600   \n",
      "\n",
      "                           Dividends  Stock Splits      MA20     MA50  \\\n",
      "Date                                                                    \n",
      "2019-08-19 00:00:00-04:00        0.0           0.0  0.937125  1.15975   \n",
      "2019-08-20 00:00:00-04:00        0.0           0.0  0.928750  1.14965   \n",
      "2019-08-21 00:00:00-04:00        0.0           0.0  0.922000  1.13875   \n",
      "2019-08-22 00:00:00-04:00        0.0           0.0  0.920625  1.13060   \n",
      "2019-08-23 00:00:00-04:00        0.0           0.0  0.916125  1.12035   \n",
      "\n",
      "                           Volume_Change  Daily_Return  \n",
      "Date                                                    \n",
      "2019-08-19 00:00:00-04:00      -0.077682      0.018072  \n",
      "2019-08-20 00:00:00-04:00       0.475325      0.011834  \n",
      "2019-08-21 00:00:00-04:00       0.387535      0.035088  \n",
      "2019-08-22 00:00:00-04:00       3.936186      0.093220  \n",
      "2019-08-23 00:00:00-04:00      -0.703163     -0.056847  \n",
      "<class 'pandas.core.frame.DataFrame'>\n",
      "DatetimeIndex: 1211 entries, 2019-08-19 00:00:00-04:00 to 2024-06-10 00:00:00-04:00\n",
      "Data columns (total 11 columns):\n",
      " #   Column         Non-Null Count  Dtype  \n",
      "---  ------         --------------  -----  \n",
      " 0   Open           1211 non-null   float64\n",
      " 1   High           1211 non-null   float64\n",
      " 2   Low            1211 non-null   float64\n",
      " 3   Close          1211 non-null   float64\n",
      " 4   Volume         1211 non-null   int64  \n",
      " 5   Dividends      1211 non-null   float64\n",
      " 6   Stock Splits   1211 non-null   float64\n",
      " 7   MA20           1211 non-null   float64\n",
      " 8   MA50           1211 non-null   float64\n",
      " 9   Volume_Change  1211 non-null   float64\n",
      " 10  Daily_Return   1211 non-null   float64\n",
      "dtypes: float64(10), int64(1)\n",
      "memory usage: 113.5 KB\n",
      "None\n",
      "Index(['Open', 'High', 'Low', 'Close', 'Volume', 'Dividends', 'Stock Splits',\n",
      "       'MA20', 'MA50', 'Volume_Change', 'Daily_Return'],\n",
      "      dtype='object')\n",
      "DatetimeIndex(['2019-08-19', '2019-08-20', '2019-08-21', '2019-08-22',\n",
      "               '2019-08-23', '2019-08-26', '2019-08-27', '2019-08-28',\n",
      "               '2019-08-29', '2019-08-30',\n",
      "               ...\n",
      "               '2024-05-28', '2024-05-29', '2024-05-30', '2024-05-31',\n",
      "               '2024-06-03', '2024-06-04', '2024-06-05', '2024-06-06',\n",
      "               '2024-06-07', '2024-06-10'],\n",
      "              dtype='datetime64[ns]', name='Date', length=1211, freq=None)\n",
      "DatetimeIndex(['2021-01-26', '2021-01-27', '2021-01-28', '2021-01-29',\n",
      "               '2021-01-30', '2021-01-31', '2021-02-01', '2021-02-02',\n",
      "               '2021-02-03', '2021-02-04',\n",
      "               ...\n",
      "               '2022-11-02', '2022-11-03', '2022-11-04', '2022-11-05',\n",
      "               '2022-11-06', '2022-11-07', '2022-11-08', '2022-11-09',\n",
      "               '2022-11-10', '2022-11-11'],\n",
      "              dtype='datetime64[ns]', name='created_utc', length=655, freq='D')\n",
      "Index(['Open', 'High', 'Low', 'Close', 'Volume', 'Dividends', 'Stock Splits',\n",
      "       'MA20', 'MA50', 'Volume_Change', 'Daily_Return', 'sentiment'],\n",
      "      dtype='object')\n",
      "                 Open        High        Low      Close     Volume  Dividends  \\\n",
      "2021-01-26  22.139999   37.500000  20.049999  36.994999  714352000        0.0   \n",
      "2021-01-27  88.707497   95.000000  62.250000  86.877502  373586800        0.0   \n",
      "2021-01-28  66.250000  120.750000  28.062500  48.400002  235263200        0.0   \n",
      "2021-01-29  94.927498  103.495003  62.500000  81.250000  202264400        0.0   \n",
      "2021-02-01  79.139999   80.500000  53.000000  56.250000  149528800        0.0   \n",
      "\n",
      "            Stock Splits       MA20      MA50  Volume_Change  Daily_Return  \\\n",
      "2021-01-26           0.0   9.065125   5.84555       0.004014      0.927074   \n",
      "2021-01-27           0.0  13.146625   7.52745      -0.477027      1.348358   \n",
      "2021-01-28           0.0  15.324375   8.44040      -0.370258     -0.442894   \n",
      "2021-01-29           0.0  19.146125  10.00510      -0.140263      0.678719   \n",
      "2021-02-01           0.0  21.723125  11.07195      -0.260726     -0.307692   \n",
      "\n",
      "            sentiment  \n",
      "2021-01-26   0.427800  \n",
      "2021-01-27   0.213900  \n",
      "2021-01-28  -0.009871  \n",
      "2021-01-29   0.271583  \n",
      "2021-02-01   0.115650  \n",
      "<class 'pandas.core.frame.DataFrame'>\n",
      "DatetimeIndex: 22 entries, 2021-01-26 to 2022-11-11\n",
      "Data columns (total 12 columns):\n",
      " #   Column         Non-Null Count  Dtype  \n",
      "---  ------         --------------  -----  \n",
      " 0   Open           22 non-null     float64\n",
      " 1   High           22 non-null     float64\n",
      " 2   Low            22 non-null     float64\n",
      " 3   Close          22 non-null     float64\n",
      " 4   Volume         22 non-null     int64  \n",
      " 5   Dividends      22 non-null     float64\n",
      " 6   Stock Splits   22 non-null     float64\n",
      " 7   MA20           22 non-null     float64\n",
      " 8   MA50           22 non-null     float64\n",
      " 9   Volume_Change  22 non-null     float64\n",
      " 10  Daily_Return   22 non-null     float64\n",
      " 11  sentiment      22 non-null     float64\n",
      "dtypes: float64(11), int64(1)\n",
      "memory usage: 2.2 KB\n",
      "None\n",
      "Index(['Open', 'High', 'Low', 'Close', 'Volume', 'Dividends', 'Stock Splits',\n",
      "       'MA20', 'MA50', 'Volume_Change', 'Daily_Return', 'sentiment'],\n",
      "      dtype='object')\n"
     ]
    }
   ],
   "source": [
    "import pandas as pd\n",
    "import yfinance as yf\n",
    "\n",
    "# Assuming df_sentiment is your sentiment DataFrame\n",
    "if 'created_utc' in df_sentiment.columns:\n",
    "    if df_sentiment['created_utc'].dtype != 'datetime64[ns]':\n",
    "        df_sentiment['created_utc'] = pd.to_datetime(df_sentiment['created_utc'])\n",
    "\n",
    "    df_sentiment.set_index('created_utc', inplace=True)\n",
    "\n",
    "    # Resample and ensure daily_sentiment is a DataFrame with a proper index\n",
    "    daily_sentiment = df_sentiment.resample('D').mean()\n",
    "    \n",
    "    # If daily_sentiment is a Series, convert it to a DataFrame\n",
    "    if isinstance(daily_sentiment, pd.Series):\n",
    "        daily_sentiment = daily_sentiment.to_frame(name='sentiment')\n",
    "\n",
    "    # Ensure 'sentiment' column exists\n",
    "    if 'sentiment' not in daily_sentiment.columns:\n",
    "        daily_sentiment['sentiment'] = df_sentiment['sentiment']\n",
    "\n",
    "    # Display the content of daily_sentiment\n",
    "    print(daily_sentiment.head())\n",
    "    print(daily_sentiment.info())\n",
    "    print(daily_sentiment.columns)\n",
    "    print(type(daily_sentiment))\n",
    "else:\n",
    "    print(\"Column 'created_utc' not found in the DataFrame.\")\n",
    "\n",
    "# Fetch stock price data\n",
    "ticker = 'GME'\n",
    "stock = yf.Ticker(ticker)\n",
    "stock_data = stock.history(period='5y')\n",
    "\n",
    "# Calculate additional stock data features\n",
    "stock_data['MA20'] = stock_data['Close'].rolling(window=20).mean()\n",
    "stock_data['MA50'] = stock_data['Close'].rolling(window=50).mean()\n",
    "stock_data['Volume_Change'] = stock_data['Volume'].pct_change()\n",
    "stock_data['Daily_Return'] = stock_data['Close'].pct_change()\n",
    "\n",
    "# Drop any rows with missing values\n",
    "stock_data.dropna(inplace=True)\n",
    "\n",
    "print(stock_data.head())\n",
    "print(stock_data.info())\n",
    "print(stock_data.columns)\n",
    "\n",
    "# Ensure the index is datetime for both DataFrames and make them tz-naive\n",
    "stock_data.index = pd.to_datetime(stock_data.index).tz_localize(None)\n",
    "daily_sentiment.index = pd.to_datetime(daily_sentiment.index).tz_localize(None)\n",
    "\n",
    "# Print the indices to check alignment\n",
    "print(stock_data.index)\n",
    "print(daily_sentiment.index)\n",
    "\n",
    "# Join stock data with daily sentiment data\n",
    "stock_data = stock_data.join(daily_sentiment, how='inner')\n",
    "\n",
    "# Print the columns of stock_data after the join\n",
    "print(stock_data.columns)\n",
    "\n",
    "# Drop any rows with missing values after the join\n",
    "stock_data.dropna(inplace=True)\n",
    "\n",
    "# Display the combined data\n",
    "print(stock_data.head())\n",
    "print(stock_data.info())\n",
    "print(stock_data.columns)\n"
   ]
  },
  {
   "cell_type": "code",
   "execution_count": 131,
   "metadata": {},
   "outputs": [],
   "source": [
    "# Define the feature set and target variable\n",
    "features = ['MA20', 'MA50', 'Volume_Change', 'Daily_Return', 'sentiment']\n",
    "target = 'Close'\n",
    "\n",
    "X = stock_data[features]\n",
    "y = stock_data[target]\n",
    "\n",
    "# Split the data into training and testing sets\n",
    "X_train, X_test, y_train, y_test = train_test_split(X, y, test_size=0.2, random_state=42)\n",
    "\n",
    "# Train the model\n",
    "model = RandomForestRegressor(n_estimators=100, random_state=42)\n",
    "model.fit(X_train, y_train)\n",
    "\n",
    "# Make predictions\n",
    "y_pred = model.predict(X_test)\n"
   ]
  },
  {
   "cell_type": "code",
   "execution_count": 132,
   "metadata": {},
   "outputs": [
    {
     "data": {
      "image/png": "[encoded data removed]",
      "text/plain": [
       "<Figure size 1200x600 with 1 Axes>"
      ]
     },
     "metadata": {},
     "output_type": "display_data"
    }
   ],
   "source": [
    "# Plot the actual vs predicted prices\n",
    "plt.figure(figsize=(12, 6))\n",
    "plt.plot(y_test.index, y_test, label='Actual Price', color='blue')\n",
    "plt.plot(y_test.index, y_pred, label='Predicted Price', color='red', linestyle='--')\n",
    "plt.xlabel('Date')\n",
    "plt.ylabel('Price')\n",
    "plt.title(f'{ticker} Stock Price Prediction')\n",
    "plt.legend()\n",
    "plt.show()\n"
   ]
  },
  {
   "cell_type": "code",
   "execution_count": 133,
   "metadata": {},
   "outputs": [
    {
     "data": {
      "image/png": "[encoded data removed]",
      "text/plain": [
       "<Figure size 1200x600 with 2 Axes>"
      ]
     },
     "metadata": {},
     "output_type": "display_data"
    }
   ],
   "source": [
    "# Plot sentiment and stock prices\n",
    "fig, ax1 = plt.subplots(figsize=(12, 6))\n",
    "\n",
    "ax1.set_xlabel('Date')\n",
    "ax1.set_ylabel('Stock Price', color='blue')\n",
    "ax1.plot(stock_data.index, stock_data['Close'], color='blue', label='Stock Price')\n",
    "ax1.tick_params(axis='y', labelcolor='blue')\n",
    "\n",
    "ax2 = ax1.twinx()\n",
    "ax2.set_ylabel('Sentiment', color='red')\n",
    "ax2.plot(stock_data.index, stock_data['sentiment'], color='red', label='Sentiment', alpha=0.6)\n",
    "ax2.tick_params(axis='y', labelcolor='red')\n",
    "\n",
    "fig.tight_layout()\n",
    "plt.title(f'{ticker} Stock Price and Sentiment Over Time')\n",
    "plt.show()\n"
   ]
  },
  {
   "cell_type": "code",
   "execution_count": 134,
   "metadata": {},
   "outputs": [
    {
     "data": {
      "image/png": "[encoded data removed]",
      "text/plain": [
       "<Figure size 1000x600 with 1 Axes>"
      ]
     },
     "metadata": {},
     "output_type": "display_data"
    }
   ],
   "source": [
    "importances = model.feature_importances_\n",
    "indices = np.argsort(importances)[::-1]\n",
    "\n",
    "# Plot feature importances\n",
    "plt.figure(figsize=(10, 6))\n",
    "plt.title(\"Feature Importances\")\n",
    "plt.bar(range(X.shape[1]), importances[indices], align=\"center\")\n",
    "plt.xticks(range(X.shape[1]), [features[i] for i in indices])\n",
    "plt.xlabel('Feature')\n",
    "plt.ylabel('Importance')\n",
    "plt.show()\n"
   ]
  },
  {
   "cell_type": "code",
   "execution_count": null,
   "metadata": {},
   "outputs": [],
   "source": []
  }
 ],
 "metadata": {
  "kernelspec": {
   "display_name": "dev",
   "language": "python",
   "name": "python3"
  },
  "language_info": {
   "codemirror_mode": {
    "name": "ipython",
    "version": 3
   },
   "file_extension": ".py",
   "mimetype": "text/x-python",
   "name": "python",
   "nbconvert_exporter": "python",
   "pygments_lexer": "ipython3",
   "version": "3.10.13"
  }
 },
 "nbformat": 4,
 "nbformat_minor": 2
}
