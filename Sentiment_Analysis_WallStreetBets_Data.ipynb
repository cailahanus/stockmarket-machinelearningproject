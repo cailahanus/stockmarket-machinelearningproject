{
 "cells": [
  {
   "cell_type": "code",
   "execution_count": 1,
   "metadata": {},
   "outputs": [
    {
     "name": "stdout",
     "output_type": "stream",
     "text": [
      "Collecting praw\n",
      "  Downloading praw-7.7.1-py3-none-any.whl.metadata (9.8 kB)\n",
      "Collecting prawcore<3,>=2.1 (from praw)\n",
      "  Downloading prawcore-2.4.0-py3-none-any.whl.metadata (5.0 kB)\n",
      "Collecting update-checker>=0.18 (from praw)\n",
      "  Downloading update_checker-0.18.0-py3-none-any.whl.metadata (2.3 kB)\n",
      "Collecting websocket-client>=0.54.0 (from praw)\n",
      "  Downloading websocket_client-1.8.0-py3-none-any.whl.metadata (8.0 kB)\n",
      "Requirement already satisfied: requests<3.0,>=2.6.0 in c:\\users\\ayeni\\anaconda3\\envs\\dev\\lib\\site-packages (from prawcore<3,>=2.1->praw) (2.31.0)\n",
      "Requirement already satisfied: charset-normalizer<4,>=2 in c:\\users\\ayeni\\anaconda3\\envs\\dev\\lib\\site-packages (from requests<3.0,>=2.6.0->prawcore<3,>=2.1->praw) (3.3.2)\n",
      "Requirement already satisfied: idna<4,>=2.5 in c:\\users\\ayeni\\anaconda3\\envs\\dev\\lib\\site-packages (from requests<3.0,>=2.6.0->prawcore<3,>=2.1->praw) (3.6)\n",
      "Requirement already satisfied: urllib3<3,>=1.21.1 in c:\\users\\ayeni\\anaconda3\\envs\\dev\\lib\\site-packages (from requests<3.0,>=2.6.0->prawcore<3,>=2.1->praw) (2.2.0)\n",
      "Requirement already satisfied: certifi>=2017.4.17 in c:\\users\\ayeni\\anaconda3\\envs\\dev\\lib\\site-packages (from requests<3.0,>=2.6.0->prawcore<3,>=2.1->praw) (2024.2.2)\n",
      "Downloading praw-7.7.1-py3-none-any.whl (191 kB)\n",
      "   ---------------------------------------- 0.0/191.0 kB ? eta -:--:--\n",
      "   -------- ------------------------------ 41.0/191.0 kB 960.0 kB/s eta 0:00:01\n",
      "   -------------------------------------- - 184.3/191.0 kB 2.2 MB/s eta 0:00:01\n",
      "   ---------------------------------------- 191.0/191.0 kB 1.6 MB/s eta 0:00:00\n",
      "Downloading prawcore-2.4.0-py3-none-any.whl (17 kB)\n",
      "Downloading update_checker-0.18.0-py3-none-any.whl (7.0 kB)\n",
      "Downloading websocket_client-1.8.0-py3-none-any.whl (58 kB)\n",
      "   ---------------------------------------- 0.0/58.8 kB ? eta -:--:--\n",
      "   ---------------------------------------- 58.8/58.8 kB 1.5 MB/s eta 0:00:00\n",
      "Installing collected packages: websocket-client, update-checker, prawcore, praw\n",
      "Successfully installed praw-7.7.1 prawcore-2.4.0 update-checker-0.18.0 websocket-client-1.8.0\n",
      "Note: you may need to restart the kernel to use updated packages.\n"
     ]
    }
   ],
   "source": [
    "pip install praw\n"
   ]
  },
  {
   "cell_type": "code",
   "execution_count": 3,
   "metadata": {},
   "outputs": [],
   "source": [
    "import praw \n",
    "\n",
    "client_id = 'v7C0oPpsPjVKOsptqEkaAA'\n",
    "client_secret = 'fBY3xKcWRZlAH3sBYR0oVcbgg0e9aQ'\n",
    "user_agent = 'my_reddit_app/0.1 by Weary_Ad_1647'\n",
    "\n",
    "reddit = praw.Reddit(client_id=client_id,client_secret=client_secret,user_agent=user_agent)\n",
    "\n",
    "\n",
    "\n",
    "\n"
   ]
  },
  {
   "cell_type": "code",
   "execution_count": 5,
   "metadata": {},
   "outputs": [
    {
     "name": "stdout",
     "output_type": "stream",
     "text": [
      "Title: Basic guide to Wallstreetbets culture for Newcomers\n",
      "Comments: 1496\n",
      "Title: Is This the WallStreetBets Way?\n",
      "Comments: 826\n",
      "Title: WallStreetBets now public again due to scammers.\n",
      "Comments: 3419\n",
      "Title: The founder of WallStreetBets is suing Reddit\n",
      "Comments: 366\n",
      "Title: Found on r/wallstreetbets, guy loses $127k+ gambling on stocks and hasn't posted or commented since...\n",
      "Comments: 442\n",
      "Title: WallStreetBets Meet & Greet\n",
      "Comments: 260\n",
      "Title: WallStreetBets says Reddit group hit by \"large amount\" of bot activity\n",
      "Comments: 2241\n",
      "Title: I’m Jaime Rogozinski, Founder of WallStreetBets and I’m suing Reddit. AMA.\n",
      "Comments: 1194\n",
      "Title: The Wolf of WallStreetBets Trailer - Created this for the community\n",
      "Comments: 1206\n",
      "Title: Reddit banned a group of WallStreetBets moderators after they staged an attempted coup\n",
      "Comments: 1580\n"
     ]
    }
   ],
   "source": [
    "query = 'WallStreetBets'\n",
    "subreddit = 'all'\n",
    "for submission in reddit.subreddit(subreddit).search(query, limit=10):\n",
    "    print(f'Title: {submission.title}')\n",
    "    print(f'Comments: {submission.num_comments}')"
   ]
  },
  {
   "cell_type": "code",
   "execution_count": null,
   "metadata": {},
   "outputs": [],
   "source": []
  }
 ],
 "metadata": {
  "kernelspec": {
   "display_name": "dev",
   "language": "python",
   "name": "python3"
  },
  "language_info": {
   "codemirror_mode": {
    "name": "ipython",
    "version": 3
   },
   "file_extension": ".py",
   "mimetype": "text/x-python",
   "name": "python",
   "nbconvert_exporter": "python",
   "pygments_lexer": "ipython3",
   "version": "3.10.13"
  }
 },
 "nbformat": 4,
 "nbformat_minor": 2
}
