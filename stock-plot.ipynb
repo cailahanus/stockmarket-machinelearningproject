{
 "cells": [
  {
   "cell_type": "code",
   "execution_count": 1,
   "metadata": {},
   "outputs": [],
   "source": [
    "# import dependencies\n",
    "import pandas as pd\n",
    "import matplotlib.pyplot as plt\n",
    "import os"
   ]
  },
  {
   "cell_type": "code",
   "execution_count": null,
   "metadata": {},
   "outputs": [],
   "source": [
    "# Define paths\n",
    "data_path = 'Data'\n",
    "predictions_csv = 'fullyr_future_stock_predictions.csv'\n",
    "visualization_path = 'Visualization'\n",
    "\n",
    "# Create the Visualization folder if it doesn't exist\n",
    "if not os.path.exists(visualization_path):\n",
    "    os.makedirs(visualization_path)\n",
    "\n",
    "# Load our predictions\n",
    "stock_predictions_df = pd.read_csv(predictions_csv)\n",
    "\n",
    "# Groupby stock\n",
    "grouped_predictions_df = stock_predictions_df.groupby('Stock')"
   ]
  },
  {
   "cell_type": "code",
   "execution_count": null,
   "metadata": {},
   "outputs": [],
   "source": [
    "# Create plot_stock, a function that plots historical and prediction data\n",
    "def plot_stock(stock_name, data_path, grouped_predictions_df, visualization_path):\n",
    "    #Load stock data\n",
    "    stock_history_file = os.path.join(data_path, stock_name + '.csv')\n",
    "    stock_history_data = pd.read_csv(stock_history_file, parse_dates=['Date'])\n",
    "\n",
    "    #Filter predictions\n",
    "    stock_predictions = grouped_predictions_df.get_group(stock_name)\n",
    "\n",
    "    #Plot historical data\n",
    "    plt.figure(figsize=(14, 7))\n",
    "    plt.plot(stock_history_data['Date'], stock_history_data['Close'], label = 'Historical Data', color = 'blue')\n",
    "    #Plot projections\n",
    "    plt.plot(stock_predictions['Date'], stock_predictions['Proejcted_Close'], label = 'Projections', color = 'green', linestyle = '--')\n",
    "\n",
    "    #Add title \n",
    "    plt.title(f'Stock Price Prediction for {stock_name}')\n",
    "    \n",
    "    #Add labels\n",
    "    plt.xlabel('Date')\n",
    "    plt.ylabel('Price at Close')\n",
    "    plt.legend()\n",
    "\n",
    "    # Save plot as image\n",
    "    plot_file_path = os.path.join(visualization_path, f'{stock_name}_projection.png')\n",
    "    plt.savefig(plot_file_path)\n",
    "    \n",
    "    #Plot\n",
    "    plt.show()"
   ]
  },
  {
   "cell_type": "code",
   "execution_count": null,
   "metadata": {},
   "outputs": [],
   "source": [
    "#Generate a list of stock names\n",
    "stock_names = stock_predictions_df['Stock'].unique()\n",
    "\n",
    "# Create a for loop to iterate over all stocks\n",
    "for stock_name in stock_names:\n",
    "    plot_stock(stock_name, data_path, grouped_predictions_df, visualization_path)"
   ]
  }
 ],
 "metadata": {
  "kernelspec": {
   "display_name": "base",
   "language": "python",
   "name": "python3"
  },
  "language_info": {
   "codemirror_mode": {
    "name": "ipython",
    "version": 3
   },
   "file_extension": ".py",
   "mimetype": "text/x-python",
   "name": "python",
   "nbconvert_exporter": "python",
   "pygments_lexer": "ipython3",
   "version": "3.11.7"
  }
 },
 "nbformat": 4,
 "nbformat_minor": 2
}
